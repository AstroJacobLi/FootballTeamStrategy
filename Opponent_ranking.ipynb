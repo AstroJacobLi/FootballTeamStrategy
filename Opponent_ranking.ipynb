{
 "cells": [
  {
   "cell_type": "code",
   "execution_count": 5,
   "metadata": {},
   "outputs": [],
   "source": [
    "import pandas as pd\n",
    "df1 = pd.read_csv('2020_Problem_D_DATA/matches.csv')\n",
    "df2 = pd.read_json('Foot/online-data/matches/matches_England.json')"
   ]
  },
  {
   "cell_type": "code",
   "execution_count": 76,
   "metadata": {},
   "outputs": [
    {
     "data": {
      "text/plain": [
       "{'West Ham United': {'match1': ['1', '3'], 'match2': ['4', '0']},\n",
       " 'Southampton': {'match1': ['1', '1'], 'match2': ['1', '4']},\n",
       " 'Huddersfield Town': {'match1': ['2', '0'], 'match2': ['2', '0']},\n",
       " 'Newcastle United': {'match1': ['1', '0'], 'match2': ['1', '0']},\n",
       " 'Swansea City': {'match1': ['1', '1'], 'match2': ['3', '1']},\n",
       " 'Liverpool': {'match1': ['0', '0'], 'match2': ['1', '1']},\n",
       " 'Manchester City': {'match1': ['1', '3'], 'match2': ['1', '1']},\n",
       " 'Stoke City': {'match1': ['2', '1'], 'match2': ['1', '0']},\n",
       " 'Brighton & Hove Albion': {'match1': ['2', '0'], 'match2': ['1', '1']},\n",
       " 'Burnley': {'match1': ['1', '2'], 'match2': ['0', '1']},\n",
       " 'Watford': {'match1': ['0', '1'], 'match2': ['3', '2']},\n",
       " 'Crystal Palace': {'match1': ['3', '1'], 'match2': ['2', '2']},\n",
       " 'Arsenal': {'match1': ['1', '5'], 'match2': ['2', '5']},\n",
       " 'Leicester City': {'match1': ['2', '1'], 'match2': ['0', '2']},\n",
       " 'West Bromwich Albion': {'match1': ['1', '1'], 'match2': ['0', '0']},\n",
       " 'Tottenham Hotspur': {'match1': ['0', '4'], 'match2': ['0', '3']},\n",
       " 'Manchester United': {'match1': ['0', '2'], 'match2': ['0', '4']},\n",
       " 'AFC Bournemouth': {'match1': ['1', '2'], 'match2': ['2', '1']},\n",
       " 'Chelsea': {'match1': ['0', '0'], 'match2': ['0', '2']}}"
      ]
     },
     "execution_count": 76,
     "metadata": {},
     "output_type": "execute_result"
    }
   ],
   "source": [
    "df = pd.DataFrame()\n",
    "self_s = []\n",
    "opp_s = []\n",
    "Opp = []\n",
    "for i in range(len(df2)):\n",
    "    if 'Everton' in df2['label'][i]:\n",
    "        # 主场作战\n",
    "        score = df2['label'][i].split(',')[1]\n",
    "        if df2['label'][i][:7] == 'Everton':\n",
    "            Opp.append(df2['label'][i].split(',')[0].split('-')[1].strip())\n",
    "            self_s.append(score.split('-')[0].strip())\n",
    "            opp_s.append(score.split('-')[1].strip())\n",
    "        else:\n",
    "            Opp.append(df2['label'][i].split(',')[0].split('-')[0].strip())\n",
    "            self_s.append(score.split('-')[1].strip())\n",
    "            opp_s.append(score.split('-')[0].strip())\n",
    "dic = {}\n",
    "for i in range(len(self_s)):\n",
    "    if Opp[i] not in dic:\n",
    "        dic[Opp[i]] = {}\n",
    "        dic[Opp[i]]['match1'] = [self_s[i], opp_s[i]]\n",
    "    else:\n",
    "        dic[Opp[i]]['match2'] = [self_s[i], opp_s[i]]\n",
    "dic"
   ]
  },
  {
   "cell_type": "code",
   "execution_count": 64,
   "metadata": {},
   "outputs": [
    {
     "name": "stdout",
     "output_type": "stream",
     "text": [
      "19\n"
     ]
    },
    {
     "data": {
      "text/plain": [
       "{'West Ham United': 'Opponent14',\n",
       " 'Southampton': 'Opponent13',\n",
       " 'Huddersfield Town': 'Opponent15',\n",
       " 'Newcastle United': 'Opponent17',\n",
       " 'Swansea City': 'Opponent18',\n",
       " 'Liverpool': 'Opponent16',\n",
       " 'Manchester City': 'Opponent2',\n",
       " 'Stoke City': 'Opponent1',\n",
       " 'Brighton & Hove Albion': 'Opponent8',\n",
       " 'Burnley': 'Opponent7',\n",
       " 'Watford': 'Opponent11',\n",
       " 'Crystal Palace': 'Opponent12',\n",
       " 'Arsenal': 'Opponent9',\n",
       " 'Leicester City': 'Opponent10',\n",
       " 'West Bromwich Albion': 'Opponent19',\n",
       " 'Tottenham Hotspur': 'Opponent4',\n",
       " 'Manchester United': 'Opponent5',\n",
       " 'AFC Bournemouth': 'Opponent6',\n",
       " 'Chelsea': 'Opponent3'}"
      ]
     },
     "execution_count": 64,
     "metadata": {},
     "output_type": "execute_result"
    }
   ],
   "source": [
    "dic1 = {}\n",
    "for key, value in dic.items():    \n",
    "    for i in range(len(df1)):\n",
    "        if df1['OwnScore'][i] == int(value['match1'][0]) and df1['OpponentScore'][i] == int(value['match1'][1]):\n",
    "            for j in range(len(df1)):\n",
    "                if df1['OpponentID'][i] == df1['OpponentID'][j] and i != j:\n",
    "                    if df1['OwnScore'][j] == int(value['match2'][0]) and df1['OpponentScore'][j] == int(value['match2'][1]):\n",
    "                        dic1[key] = df1['OpponentID'][i]\n",
    "                        #print(key, df1['OpponentID'][i])\n",
    "print(len(dic1))\n",
    "dic1"
   ]
  },
  {
   "cell_type": "code",
   "execution_count": 77,
   "metadata": {},
   "outputs": [
    {
     "name": "stdout",
     "output_type": "stream",
     "text": [
      "1 Manchester City 100\n",
      "2 Manchester United 81\n",
      "3 Tottenham Hotspur 77\n",
      "4 Liverpool 75\n",
      "5 Chelsea 70\n",
      "6 Arsenal 63\n",
      "7 Burnley 54\n",
      "8 Everton 48\n",
      "9 Leicester City 47\n",
      "10 AFC Bournemouth 44\n",
      "11 Crystal Palace 44\n",
      "12 Newcastle United 44\n",
      "13 West Ham United 42\n",
      "14 Brighton & Hove Albion 41\n",
      "15 Watford 39\n",
      "16 Huddersfield Town 37\n",
      "17 Southampton 36\n",
      "18 Swansea City 33\n",
      "19 Stoke City 33\n",
      "20 West Bromwich Albion 31\n"
     ]
    }
   ],
   "source": [
    "import pandas as pd\n",
    "import numpy as np\n",
    "df_matches_Eng = pd.read_json('matches/matches_England.json')\n",
    "df_teams = pd.read_json('teams.json')\n",
    "teamId_dic = {}\n",
    "for i in range(len(df_matches_Eng)):\n",
    "    for teamId in df_matches_Eng['teamsData'][i].keys():\n",
    "        if teamId not in teamId_dic:\n",
    "            teamId_dic[teamId] = 0\n",
    "            \n",
    "for i in range(len(df_matches_Eng)):\n",
    "    if df_matches_Eng['winner'][i] == 0:\n",
    "        team0 = list(df_matches_Eng['teamsData'][i].keys())[0]\n",
    "        team1 = list(df_matches_Eng['teamsData'][i].keys())[1]\n",
    "        teamId_dic[team0] += 1\n",
    "        teamId_dic[team1] += 1\n",
    "    else:\n",
    "        teamId_dic[str(df_matches_Eng['winner'][i])] += 3\n",
    "team_ranking = sorted(teamId_dic.items(), key=lambda x:x[1], reverse=True)\n",
    "# Name:id\n",
    "Name_teamId_matchesId = {}\n",
    "for index, value in enumerate(team_ranking):\n",
    "    print(index+1, df_teams[df_teams['wyId']==int(team_ranking[index][0])]['name'].values[0],team_ranking[index][1])\n",
    "    #Name_teamId_matchesId[df_teams[df_teams['wyId']==int(team_ranking[index][0])]['name'].values[0]] = {'teamId':team_ranking[index][0], 'matchesId':[]}\n",
    "    Name_teamId_matchesId[df_teams[df_teams['wyId']==int(team_ranking[index][0])]['name'].values[0]] = index+1\n",
    "#Name_teamId_matchesId"
   ]
  },
  {
   "cell_type": "code",
   "execution_count": 71,
   "metadata": {},
   "outputs": [
    {
     "data": {
      "text/plain": [
       "{'Manchester City': 1,\n",
       " 'Manchester United': 2,\n",
       " 'Tottenham Hotspur': 3,\n",
       " 'Liverpool': 4,\n",
       " 'Chelsea': 5,\n",
       " 'Arsenal': 6,\n",
       " 'Burnley': 7,\n",
       " 'Everton': 8,\n",
       " 'Leicester City': 9,\n",
       " 'AFC Bournemouth': 10,\n",
       " 'Crystal Palace': 11,\n",
       " 'Newcastle United': 12,\n",
       " 'West Ham United': 13,\n",
       " 'Brighton & Hove Albion': 14,\n",
       " 'Watford': 15,\n",
       " 'Huddersfield Town': 16,\n",
       " 'Southampton': 17,\n",
       " 'Swansea City': 18,\n",
       " 'Stoke City': 19,\n",
       " 'West Bromwich Albion': 20}"
      ]
     },
     "execution_count": 71,
     "metadata": {},
     "output_type": "execute_result"
    }
   ],
   "source": [
    "Name_teamId_matchesId"
   ]
  },
  {
   "cell_type": "code",
   "execution_count": 74,
   "metadata": {},
   "outputs": [],
   "source": [
    "dic2 = {}\n",
    "for key, value in dic1.items():\n",
    "    dic2[value] = Name_teamId_matchesId[key]"
   ]
  },
  {
   "cell_type": "code",
   "execution_count": 75,
   "metadata": {},
   "outputs": [
    {
     "data": {
      "text/plain": [
       "{'Opponent14': 13,\n",
       " 'Opponent13': 17,\n",
       " 'Opponent15': 16,\n",
       " 'Opponent17': 12,\n",
       " 'Opponent18': 18,\n",
       " 'Opponent16': 4,\n",
       " 'Opponent2': 1,\n",
       " 'Opponent1': 19,\n",
       " 'Opponent8': 14,\n",
       " 'Opponent7': 7,\n",
       " 'Opponent11': 15,\n",
       " 'Opponent12': 11,\n",
       " 'Opponent9': 6,\n",
       " 'Opponent10': 9,\n",
       " 'Opponent19': 20,\n",
       " 'Opponent4': 3,\n",
       " 'Opponent5': 2,\n",
       " 'Opponent6': 10,\n",
       " 'Opponent3': 5}"
      ]
     },
     "execution_count": 75,
     "metadata": {},
     "output_type": "execute_result"
    }
   ],
   "source": [
    "dic2"
   ]
  },
  {
   "cell_type": "code",
   "execution_count": null,
   "metadata": {},
   "outputs": [],
   "source": []
  }
 ],
 "metadata": {
  "kernelspec": {
   "display_name": "Python 3",
   "language": "python",
   "name": "python3"
  },
  "language_info": {
   "codemirror_mode": {
    "name": "ipython",
    "version": 3
   },
   "file_extension": ".py",
   "mimetype": "text/x-python",
   "name": "python",
   "nbconvert_exporter": "python",
   "pygments_lexer": "ipython3",
   "version": "3.7.3"
  }
 },
 "nbformat": 4,
 "nbformat_minor": 2
}
