{
 "cells": [
  {
   "cell_type": "code",
   "execution_count": 31,
   "metadata": {},
   "outputs": [
    {
     "name": "stdout",
     "output_type": "stream",
     "text": [
      "The autoreload extension is already loaded. To reload it, use:\n",
      "  %reload_ext autoreload\n"
     ]
    }
   ],
   "source": [
    "%matplotlib inline\n",
    "%load_ext autoreload\n",
    "%autoreload 2\n",
    "\n",
    "import warnings\n",
    "warnings.filterwarnings('ignore')\n",
    "import numpy as np\n",
    "import pandas as pd\n",
    "import matplotlib.pyplot as plt\n",
    "import networkx as nx\n",
    "import utils # local file\n",
    "\n",
    "plt.rc('text', usetex=True)\n",
    "plt.rcParams['font.family'] = 'serif'\n",
    "plt.rc('font', size=17)"
   ]
  },
  {
   "cell_type": "code",
   "execution_count": 2,
   "metadata": {},
   "outputs": [],
   "source": [
    "df_matches = pd.read_csv('./matches_with_network_params.csv', index_col=0)"
   ]
  },
  {
   "cell_type": "code",
   "execution_count": 3,
   "metadata": {},
   "outputs": [
    {
     "data": {
      "text/html": [
       "<div>\n",
       "<style scoped>\n",
       "    .dataframe tbody tr th:only-of-type {\n",
       "        vertical-align: middle;\n",
       "    }\n",
       "\n",
       "    .dataframe tbody tr th {\n",
       "        vertical-align: top;\n",
       "    }\n",
       "\n",
       "    .dataframe thead th {\n",
       "        text-align: right;\n",
       "    }\n",
       "</style>\n",
       "<table border=\"1\" class=\"dataframe\">\n",
       "  <thead>\n",
       "    <tr style=\"text-align: right;\">\n",
       "      <th></th>\n",
       "      <th>MatchID</th>\n",
       "      <th>OpponentID</th>\n",
       "      <th>Outcome</th>\n",
       "      <th>OwnScore</th>\n",
       "      <th>OpponentScore</th>\n",
       "      <th>Side</th>\n",
       "      <th>CoachID</th>\n",
       "      <th>Huskies_network_params</th>\n",
       "      <th>Opponent_network_params</th>\n",
       "    </tr>\n",
       "  </thead>\n",
       "  <tbody>\n",
       "    <tr>\n",
       "      <th>0</th>\n",
       "      <td>1</td>\n",
       "      <td>Opponent1</td>\n",
       "      <td>win</td>\n",
       "      <td>1</td>\n",
       "      <td>0</td>\n",
       "      <td>home</td>\n",
       "      <td>Coach1</td>\n",
       "      <td>{'clustering_coeff': 0.09591148659543136, 'sho...</td>\n",
       "      <td>{'clustering_coeff': 0.12727017100674862, 'sho...</td>\n",
       "    </tr>\n",
       "    <tr>\n",
       "      <th>1</th>\n",
       "      <td>2</td>\n",
       "      <td>Opponent2</td>\n",
       "      <td>tie</td>\n",
       "      <td>1</td>\n",
       "      <td>1</td>\n",
       "      <td>away</td>\n",
       "      <td>Coach1</td>\n",
       "      <td>{'clustering_coeff': 0.13558418994397967, 'sho...</td>\n",
       "      <td>{'clustering_coeff': 0.15137551104001684, 'sho...</td>\n",
       "    </tr>\n",
       "    <tr>\n",
       "      <th>2</th>\n",
       "      <td>3</td>\n",
       "      <td>Opponent3</td>\n",
       "      <td>loss</td>\n",
       "      <td>0</td>\n",
       "      <td>2</td>\n",
       "      <td>away</td>\n",
       "      <td>Coach1</td>\n",
       "      <td>{'clustering_coeff': 0.12456657946374812, 'sho...</td>\n",
       "      <td>{'clustering_coeff': 0.1305149813894459, 'shor...</td>\n",
       "    </tr>\n",
       "  </tbody>\n",
       "</table>\n",
       "</div>"
      ],
      "text/plain": [
       "   MatchID OpponentID Outcome  OwnScore  OpponentScore  Side CoachID  \\\n",
       "0        1  Opponent1     win         1              0  home  Coach1   \n",
       "1        2  Opponent2     tie         1              1  away  Coach1   \n",
       "2        3  Opponent3    loss         0              2  away  Coach1   \n",
       "\n",
       "                              Huskies_network_params  \\\n",
       "0  {'clustering_coeff': 0.09591148659543136, 'sho...   \n",
       "1  {'clustering_coeff': 0.13558418994397967, 'sho...   \n",
       "2  {'clustering_coeff': 0.12456657946374812, 'sho...   \n",
       "\n",
       "                             Opponent_network_params  \n",
       "0  {'clustering_coeff': 0.12727017100674862, 'sho...  \n",
       "1  {'clustering_coeff': 0.15137551104001684, 'sho...  \n",
       "2  {'clustering_coeff': 0.1305149813894459, 'shor...  "
      ]
     },
     "execution_count": 3,
     "metadata": {},
     "output_type": "execute_result"
    }
   ],
   "source": [
    "df_matches[:3]"
   ]
  },
  {
   "cell_type": "markdown",
   "metadata": {},
   "source": [
    "### Flexibility\n",
    "每场每个队算一个mean 50time, 然后看看二哈和别的队的mean 50time有没有相关性？"
   ]
  },
  {
   "cell_type": "code",
   "execution_count": 4,
   "metadata": {},
   "outputs": [],
   "source": [
    "def parse_time(team, matchid):\n",
    "    df = pd.read_csv('./2020_Problem_D_DATA/passingevents.csv')\n",
    "    df = df[df['MatchID'] == matchid]\n",
    "    df = df[df['TeamID'] == team]\n",
    "    \n",
    "    df_full = pd.read_csv('./2020_Problem_D_DATA/fullevents.csv')\n",
    "    df_full = df_full[df_full['MatchID'] == matchid]\n",
    "    df_full = df_full[df_full['TeamID'] == team]\n",
    "    first_half_time = df_full[df_full['MatchPeriod'] == '1H'].iloc[-1]['EventTime']\n",
    "    \n",
    "    df.loc[df['MatchPeriod'] == '2H', 'EventTime'] += first_half_time\n",
    "    return df"
   ]
  },
  {
   "cell_type": "code",
   "execution_count": 5,
   "metadata": {},
   "outputs": [],
   "source": [
    "def temporal_50time(team, matchid, length=50):\n",
    "    from network import build_network, plot_network, calc_network_params\n",
    "    df = parse_time(team, matchid)\n",
    "    \n",
    "    df = df[df['TeamID'] == team]\n",
    "    df = df[df['MatchID'] == matchid]\n",
    "    time = df['EventTime'].values\n",
    "    \n",
    "    net_param_dict = {}\n",
    "    for i in range(len(df)):\n",
    "        if length + i >= len(df):\n",
    "            break\n",
    "        network_params = {}\n",
    "        local_time = time[length + i] - time[i]\n",
    "        network_params['delta_time'] = local_time\n",
    "        network_params['time'] = time[length + i]\n",
    "        net_param_dict[i] = network_params\n",
    "        \n",
    "    df_net_param = pd.DataFrame(net_param_dict).T\n",
    "    return df_net_param"
   ]
  },
  {
   "cell_type": "code",
   "execution_count": 6,
   "metadata": {},
   "outputs": [],
   "source": [
    "plt.rc('text', usetex=False)"
   ]
  },
  {
   "cell_type": "raw",
   "metadata": {},
   "source": [
    "for ind, row in df_matches.iterrows():\n",
    "    df_net_huskies = temporal_50time('Huskies', row['MatchID'])\n",
    "    df_net_opponent = temporal_50time(row['OpponentID'], row['MatchID'])\n",
    "\n",
    "    fig, ax = plt.subplots(1, 1, figsize=(11, 5))\n",
    "\n",
    "    ax.plot(df_net_huskies['time'].values / 60, df_net_huskies['delta_time'].values, \n",
    "            color='steelblue', marker='.', label='Huskies')\n",
    "    ax.plot(df_net_opponent['time'].values / 60, df_net_opponent['delta_time'].values, \n",
    "            color='orange', marker='.', label='Opponent')\n",
    "\n",
    "    ax.set_ylabel(r'$t_{50}$')\n",
    "    ax.set_xlabel('Time (min)')\n",
    "\n",
    "    ax.tick_params(direction='in', left=True, right=True, \n",
    "                    bottom=True, top=True, labelleft=True, labelbottom=True)\n",
    "\n",
    "    ax.legend()\n",
    "\n",
    "    plt.suptitle('Outcome: {}'.format(row['Outcome']))\n",
    "\n",
    "    #plt.savefig('./Draft/temporal-net-params.pdf', dpi=200, bbox_inches='tight')\n",
    "    plt.savefig('./Figures/{0}-t50-match{1}.png'.format(row['Outcome'], row['MatchID']), \n",
    "                dpi=100, bbox_inches='tight')\n",
    "    plt.close()"
   ]
  },
  {
   "cell_type": "code",
   "execution_count": null,
   "metadata": {},
   "outputs": [],
   "source": []
  },
  {
   "cell_type": "code",
   "execution_count": 7,
   "metadata": {},
   "outputs": [],
   "source": [
    "for ind, row in df_matches.iterrows():\n",
    "    df_net_huskies = temporal_50time('Huskies', row['MatchID'])\n",
    "    df_net_opponent = temporal_50time(row['OpponentID'], row['MatchID'])\n",
    "\n",
    "    df_matches.loc[ind, 'Huskies_mean_50time'] = np.mean(df_net_huskies['delta_time'].values)\n",
    "    df_matches.loc[ind, 'Opponent_mean_50time'] = np.mean(df_net_opponent['delta_time'].values)"
   ]
  },
  {
   "cell_type": "code",
   "execution_count": null,
   "metadata": {},
   "outputs": [],
   "source": []
  },
  {
   "cell_type": "code",
   "execution_count": 8,
   "metadata": {},
   "outputs": [
    {
     "data": {
      "text/html": [
       "<div>\n",
       "<style scoped>\n",
       "    .dataframe tbody tr th:only-of-type {\n",
       "        vertical-align: middle;\n",
       "    }\n",
       "\n",
       "    .dataframe tbody tr th {\n",
       "        vertical-align: top;\n",
       "    }\n",
       "\n",
       "    .dataframe thead th {\n",
       "        text-align: right;\n",
       "    }\n",
       "</style>\n",
       "<table border=\"1\" class=\"dataframe\">\n",
       "  <thead>\n",
       "    <tr style=\"text-align: right;\">\n",
       "      <th></th>\n",
       "      <th>MatchID</th>\n",
       "      <th>OwnScore</th>\n",
       "      <th>OpponentScore</th>\n",
       "      <th>Huskies_mean_50time</th>\n",
       "      <th>Opponent_mean_50time</th>\n",
       "    </tr>\n",
       "    <tr>\n",
       "      <th>Outcome</th>\n",
       "      <th></th>\n",
       "      <th></th>\n",
       "      <th></th>\n",
       "      <th></th>\n",
       "      <th></th>\n",
       "    </tr>\n",
       "  </thead>\n",
       "  <tbody>\n",
       "    <tr>\n",
       "      <th>loss</th>\n",
       "      <td>18.000000</td>\n",
       "      <td>0.533333</td>\n",
       "      <td>2.866667</td>\n",
       "      <td>1124.603373</td>\n",
       "      <td>829.814018</td>\n",
       "    </tr>\n",
       "    <tr>\n",
       "      <th>tie</th>\n",
       "      <td>20.500000</td>\n",
       "      <td>0.800000</td>\n",
       "      <td>0.800000</td>\n",
       "      <td>1408.151505</td>\n",
       "      <td>881.789048</td>\n",
       "    </tr>\n",
       "    <tr>\n",
       "      <th>win</th>\n",
       "      <td>20.461538</td>\n",
       "      <td>2.153846</td>\n",
       "      <td>0.538462</td>\n",
       "      <td>915.244773</td>\n",
       "      <td>1078.006041</td>\n",
       "    </tr>\n",
       "  </tbody>\n",
       "</table>\n",
       "</div>"
      ],
      "text/plain": [
       "           MatchID  OwnScore  OpponentScore  Huskies_mean_50time  \\\n",
       "Outcome                                                            \n",
       "loss     18.000000  0.533333       2.866667          1124.603373   \n",
       "tie      20.500000  0.800000       0.800000          1408.151505   \n",
       "win      20.461538  2.153846       0.538462           915.244773   \n",
       "\n",
       "         Opponent_mean_50time  \n",
       "Outcome                        \n",
       "loss               829.814018  \n",
       "tie                881.789048  \n",
       "win               1078.006041  "
      ]
     },
     "execution_count": 8,
     "metadata": {},
     "output_type": "execute_result"
    }
   ],
   "source": [
    "# nice discovery!\n",
    "df_matches.groupby('Outcome').mean()"
   ]
  },
  {
   "cell_type": "code",
   "execution_count": 9,
   "metadata": {},
   "outputs": [],
   "source": []
  },
  {
   "cell_type": "code",
   "execution_count": 37,
   "metadata": {},
   "outputs": [
    {
     "data": {
      "text/plain": [
       "F_onewayResult(statistic=2.365464194586437, pvalue=0.10875226064755372)"
      ]
     },
     "execution_count": 37,
     "metadata": {},
     "output_type": "execute_result"
    }
   ],
   "source": [
    "stats.f_oneway(df_matches[df_matches['Outcome'] == 'win']['Opponent_mean_50time'], \n",
    "               df_matches[df_matches['Outcome'] == 'tie']['Opponent_mean_50time'], \n",
    "               df_matches[df_matches['Outcome'] == 'loss']['Opponent_mean_50time'])"
   ]
  },
  {
   "cell_type": "code",
   "execution_count": 29,
   "metadata": {},
   "outputs": [],
   "source": []
  },
  {
   "cell_type": "code",
   "execution_count": 40,
   "metadata": {},
   "outputs": [
    {
     "data": {
      "image/png": "[encoded data removed]",
      "text/plain": [
       "<Figure size 864x360 with 2 Axes>"
      ]
     },
     "metadata": {
      "needs_background": "light"
     },
     "output_type": "display_data"
    }
   ],
   "source": [
    "# Mean 50 time difference??\n",
    "from scipy import stats\n",
    "from utils import color_func, calc_mean_std\n",
    "\n",
    "fig, axes = plt.subplots(1, 2, figsize=(12, 5), sharey=True)\n",
    "\n",
    "ylabel_set = [r'Huskies $t_{50}$', r'Opponent $t_{50}$']\n",
    "\n",
    "\n",
    "for ind, column in enumerate(['Huskies_mean_50time', 'Opponent_mean_50time']):\n",
    "    ax = axes[ind]\n",
    "    \n",
    "    score_dict = {outcome: \n",
    "                  df_matches[df_matches['Outcome'] == outcome][column] for outcome in ['win', 'tie', 'loss']}\n",
    "    \n",
    "    win = calc_mean_std(score_dict['win'])\n",
    "    tie = calc_mean_std(score_dict['tie'])\n",
    "    loss = calc_mean_std(score_dict['loss'])\n",
    "    \n",
    "    anova = stats.f_oneway(score_dict['win'].values, \n",
    "                           score_dict['tie'].values, \n",
    "                           score_dict['loss'].values)\n",
    "    pvalue = anova.pvalue\n",
    "\n",
    "    x_label = ['Win', 'Tie', 'Loss']\n",
    "    \n",
    "    x_pos = [1.5, 3.0, 4.5]\n",
    "    \n",
    "    ax.bar(x_pos, [win[0], tie[0], loss[0]], \n",
    "           yerr=[win[1], tie[1], loss[1]], \n",
    "           error_kw={'capsize': 3}, \n",
    "           width=1, color=color_func(pvalue), \n",
    "           edgecolor='gray',\n",
    "           alpha=0.6)\n",
    "    ax.tick_params(direction='in', labelleft=True)\n",
    "    ylim = ax.get_ylim()\n",
    "    ax.text(0.5, 1800, r'$p={:.3f}$'.format(pvalue))\n",
    "    ax.set_xlim(0, 6)\n",
    "    ax.set_ylim(0, 2000)\n",
    "    ax.set_xticks(x_pos)\n",
    "    ax.set_xticklabels(x_label)\n",
    "    ax.set_ylabel(ylabel_set[ind])\n",
    "    \n",
    "    \n",
    "plt.subplots_adjust(wspace=0.3)\n"
   ]
  },
  {
   "cell_type": "code",
   "execution_count": null,
   "metadata": {},
   "outputs": [],
   "source": []
  },
  {
   "cell_type": "code",
   "execution_count": null,
   "metadata": {},
   "outputs": [],
   "source": []
  },
  {
   "cell_type": "markdown",
   "metadata": {},
   "source": [
    "### Time-lag cross correlation between t_{50}"
   ]
  },
  {
   "cell_type": "code",
   "execution_count": 42,
   "metadata": {},
   "outputs": [],
   "source": [
    "def crosscorr(datax, datay, lag=0, wrap=False):\n",
    "    \"\"\" Lag-N cross correlation. \n",
    "    Shifted data filled with NaNs \n",
    "    \n",
    "    Parameters\n",
    "    ----------\n",
    "    lag : int, default 0\n",
    "    datax, datay : pandas.Series objects of equal length\n",
    "\n",
    "    Returns\n",
    "    ----------\n",
    "    crosscorr : float\n",
    "    \"\"\"\n",
    "    if wrap:\n",
    "        shiftedy = datay.shift(lag)\n",
    "        shiftedy.iloc[:lag] = datay.iloc[-lag:].values\n",
    "        return datax.corr(shiftedy)\n",
    "    else: \n",
    "        return datax.corr(datay.shift(lag))"
   ]
  },
  {
   "cell_type": "code",
   "execution_count": 73,
   "metadata": {},
   "outputs": [],
   "source": [
    "for ind, row in df_matches.iterrows():\n",
    "    df_net_huskies = temporal_50time('Huskies', row['MatchID'])\n",
    "    df_net_opponent = temporal_50time(row['OpponentID'], row['MatchID'])\n",
    "\n",
    "    from scipy.interpolate import interp1d\n",
    "    f_h = interp1d(df_net_huskies['time'].values / 60, \n",
    "                   df_net_huskies['delta_time'].values / 60, \n",
    "                   kind='linear')\n",
    "    f_o = interp1d(df_net_opponent['time'].values / 60, \n",
    "                   df_net_opponent['delta_time'].values / 60, \n",
    "                   kind='linear')\n",
    "\n",
    "    x_min = max(np.min(df_net_opponent['time'].values / 60), \n",
    "                np.min(df_net_huskies['time'].values / 60))\n",
    "    x_max = min(np.max(df_net_opponent['time'].values / 60), \n",
    "                np.max(df_net_huskies['time'].values / 60))\n",
    "    x_input = np.linspace(x_min, x_max, 100)\n",
    "    d1 = pd.Series(f_h(x_input))\n",
    "    d2 = pd.Series(f_o(x_input))\n",
    "\n",
    "    rs = [crosscorr(d1, d2, lag) for lag in range(-50, 51)]\n",
    "    time_lag = (x_input[1] - x_input[0]) * range(-50, 51)[np.argmax(rs)]\n",
    "    df_matches.loc[ind, 'time_lag'] = (time_lag) * 60\n",
    "    "
   ]
  },
  {
   "cell_type": "code",
   "execution_count": 74,
   "metadata": {},
   "outputs": [
    {
     "data": {
      "text/html": [
       "<div>\n",
       "<style scoped>\n",
       "    .dataframe tbody tr th:only-of-type {\n",
       "        vertical-align: middle;\n",
       "    }\n",
       "\n",
       "    .dataframe tbody tr th {\n",
       "        vertical-align: top;\n",
       "    }\n",
       "\n",
       "    .dataframe thead th {\n",
       "        text-align: right;\n",
       "    }\n",
       "</style>\n",
       "<table border=\"1\" class=\"dataframe\">\n",
       "  <thead>\n",
       "    <tr style=\"text-align: right;\">\n",
       "      <th></th>\n",
       "      <th>MatchID</th>\n",
       "      <th>OwnScore</th>\n",
       "      <th>OpponentScore</th>\n",
       "      <th>Huskies_mean_50time</th>\n",
       "      <th>Opponent_mean_50time</th>\n",
       "      <th>time_lag</th>\n",
       "    </tr>\n",
       "    <tr>\n",
       "      <th>Outcome</th>\n",
       "      <th></th>\n",
       "      <th></th>\n",
       "      <th></th>\n",
       "      <th></th>\n",
       "      <th></th>\n",
       "      <th></th>\n",
       "    </tr>\n",
       "  </thead>\n",
       "  <tbody>\n",
       "    <tr>\n",
       "      <th>loss</th>\n",
       "      <td>18.000000</td>\n",
       "      <td>0.533333</td>\n",
       "      <td>2.866667</td>\n",
       "      <td>1124.603373</td>\n",
       "      <td>829.814018</td>\n",
       "      <td>-401.266260</td>\n",
       "    </tr>\n",
       "    <tr>\n",
       "      <th>tie</th>\n",
       "      <td>20.500000</td>\n",
       "      <td>0.800000</td>\n",
       "      <td>0.800000</td>\n",
       "      <td>1408.151505</td>\n",
       "      <td>881.789048</td>\n",
       "      <td>-1.698381</td>\n",
       "    </tr>\n",
       "    <tr>\n",
       "      <th>win</th>\n",
       "      <td>20.461538</td>\n",
       "      <td>2.153846</td>\n",
       "      <td>0.538462</td>\n",
       "      <td>915.244773</td>\n",
       "      <td>1078.006041</td>\n",
       "      <td>-130.829991</td>\n",
       "    </tr>\n",
       "  </tbody>\n",
       "</table>\n",
       "</div>"
      ],
      "text/plain": [
       "           MatchID  OwnScore  OpponentScore  Huskies_mean_50time  \\\n",
       "Outcome                                                            \n",
       "loss     18.000000  0.533333       2.866667          1124.603373   \n",
       "tie      20.500000  0.800000       0.800000          1408.151505   \n",
       "win      20.461538  2.153846       0.538462           915.244773   \n",
       "\n",
       "         Opponent_mean_50time    time_lag  \n",
       "Outcome                                    \n",
       "loss               829.814018 -401.266260  \n",
       "tie                881.789048   -1.698381  \n",
       "win               1078.006041 -130.829991  "
      ]
     },
     "execution_count": 74,
     "metadata": {},
     "output_type": "execute_result"
    }
   ],
   "source": [
    "# nice discovery!\n",
    "df_matches.groupby('Outcome').mean()"
   ]
  },
  {
   "cell_type": "code",
   "execution_count": 80,
   "metadata": {},
   "outputs": [
    {
     "data": {
      "image/png": "[encoded data removed]",
      "text/plain": [
       "<Figure size 1080x288 with 3 Axes>"
      ]
     },
     "metadata": {
      "needs_background": "light"
     },
     "output_type": "display_data"
    }
   ],
   "source": [
    "# Mean 50 time difference??\n",
    "from scipy import stats\n",
    "from utils import color_func, calc_mean_std\n",
    "\n",
    "fig, axes = plt.subplots(1, 3, figsize=(15, 4), sharey=False)\n",
    "\n",
    "ylabel_set = [r'Huskies $t_{50}$ (min)', r'Opponent $t_{50}$ (min)', 'Time Lag (min)']\n",
    "\n",
    "\n",
    "for ind, column in enumerate(['Huskies_mean_50time', 'Opponent_mean_50time', 'time_lag']):\n",
    "    ax = axes[ind]\n",
    "    \n",
    "    score_dict = {outcome: \n",
    "                  df_matches[df_matches['Outcome'] == outcome][column] / 60 for outcome in ['win', 'tie', 'loss']}\n",
    "    \n",
    "    win = calc_mean_std(score_dict['win'])\n",
    "    tie = calc_mean_std(score_dict['tie'])\n",
    "    loss = calc_mean_std(score_dict['loss'])\n",
    "    \n",
    "    anova = stats.f_oneway(score_dict['win'].values, \n",
    "                           score_dict['tie'].values, \n",
    "                           score_dict['loss'].values)\n",
    "    pvalue = anova.pvalue\n",
    "\n",
    "    x_label = ['Win', 'Tie', 'Loss']\n",
    "    \n",
    "    x_pos = [1.5, 3.0, 4.5]\n",
    "    \n",
    "    ax.bar(x_pos, [win[0], tie[0], loss[0]], \n",
    "           yerr=[win[1], tie[1], loss[1]], \n",
    "           error_kw={'capsize': 3}, \n",
    "           width=1, color=color_func(pvalue), \n",
    "           edgecolor='gray',\n",
    "           alpha=0.6)\n",
    "    ax.tick_params(direction='in', labelleft=True)\n",
    "    ylim = ax.get_ylim()\n",
    "    ax.set_xlim(0, 6)\n",
    "    if ind <= 1:\n",
    "        ax.text(0.5, 26.66, r'$p={:.3f}$'.format(pvalue))\n",
    "        ax.set_ylim(0, 30)\n",
    "    else:\n",
    "        ax.text(0.5, ylim[1] - (ylim[1] - ylim[0]) * 0.02, r'$p={:.3f}$'.format(pvalue))\n",
    "        ax.set_ylim(ylim[0], ylim[0] + 1.1 * (ylim[1] - ylim[0]))\n",
    "        \n",
    "    ax.set_xticks(x_pos)\n",
    "    ax.set_xticklabels(x_label)\n",
    "    ax.set_ylabel(ylabel_set[ind])\n",
    "    \n",
    "    \n",
    "plt.subplots_adjust(wspace=0.35)\n",
    "\n",
    "#plt.savefig('./Draft/flexibility-t50.pdf', dpi=200, bbox_inches='tight')\n",
    "#plt.savefig('./Draft/flexibility-t50.png', dpi=200, bbox_inches='tight')"
   ]
  },
  {
   "cell_type": "code",
   "execution_count": null,
   "metadata": {},
   "outputs": [],
   "source": []
  },
  {
   "cell_type": "code",
   "execution_count": 81,
   "metadata": {},
   "outputs": [],
   "source": [
    "df_matches.to_csv('./matches_flexibility.csv')"
   ]
  },
  {
   "cell_type": "code",
   "execution_count": null,
   "metadata": {},
   "outputs": [],
   "source": []
  },
  {
   "cell_type": "code",
   "execution_count": null,
   "metadata": {},
   "outputs": [],
   "source": []
  },
  {
   "cell_type": "code",
   "execution_count": null,
   "metadata": {},
   "outputs": [],
   "source": []
  },
  {
   "cell_type": "code",
   "execution_count": null,
   "metadata": {},
   "outputs": [],
   "source": []
  },
  {
   "cell_type": "markdown",
   "metadata": {},
   "source": [
    "#### Flexibility example"
   ]
  },
  {
   "cell_type": "code",
   "execution_count": 86,
   "metadata": {
    "scrolled": false
   },
   "outputs": [
    {
     "name": "stdout",
     "output_type": "stream",
     "text": [
      "MatchID=18\n",
      "MatchID=26\n"
     ]
    },
    {
     "data": {
      "image/png": "[encoded data removed]",
      "text/plain": [
       "<Figure size 792x432 with 2 Axes>"
      ]
     },
     "metadata": {
      "needs_background": "light"
     },
     "output_type": "display_data"
    }
   ],
   "source": [
    "# Flexible example\n",
    "plt.rc('text', usetex=True)\n",
    "fig, axes = plt.subplots(2, 1, figsize=(11, 6), sharex=True)\n",
    "\n",
    "indices = [17, 25]\n",
    "for i in range(2):\n",
    "    ax = axes[i]\n",
    "    \n",
    "    row = df_matches.loc[indices[i]]\n",
    "    print('MatchID={}'.format(row['MatchID']))\n",
    "    df_net_huskies = temporal_50time('Huskies', row['MatchID'])\n",
    "    df_net_opponent = temporal_50time(row['OpponentID'], row['MatchID'])\n",
    "\n",
    "\n",
    "    ax.plot(df_net_huskies['time'].values / 60, df_net_huskies['delta_time'].values / 60, \n",
    "            color='steelblue', marker='.', label='Huskies')\n",
    "    ax.plot(df_net_opponent['time'].values / 60, df_net_opponent['delta_time'].values / 60, \n",
    "            color='orange', marker='.', label='Opponent')\n",
    "\n",
    "    ax.set_ylabel(r'$t_{50}$ (min)')\n",
    "    ax.set_xlabel('Time (min)')\n",
    "\n",
    "    ax.tick_params(direction='in', left=True, right=True, \n",
    "                    bottom=True, top=True, labelleft=True, labelbottom=False)\n",
    "\n",
    "    ax.legend(loc='upper left')\n",
    "\n",
    "    ylim = ax.get_ylim()\n",
    "    #ax.vlines(45, ylim[0], ylim[1], linestyle='--', colors='gray')\n",
    "    ax.text(83, ylim[0] + 0.88 * (ylim[1] - ylim[0]), \n",
    "            'Match {0}: {1}'.format(indices[i]+1, row['Outcome']), \n",
    "            fontsize=17,\n",
    "            horizontalalignment='center', \n",
    "            verticalalignment='center',\n",
    "            bbox=dict(boxstyle='round', facecolor='wheat', alpha=0.5))\n",
    "    ax.set_ylim(ylim)\n",
    "\n",
    "axes[1].tick_params(direction='in', left=True, right=True, \n",
    "                    bottom=True, top=True, labelleft=True, labelbottom=True)\n",
    "plt.subplots_adjust(hspace=0)\n",
    "\n",
    "plt.savefig('./Draft/flexible-example-m18-26.pdf', dpi=200, bbox_inches='tight')\n",
    "plt.savefig('./Draft/flexible-example-m18-26.png', dpi=200, bbox_inches='tight')\n",
    "#plt.close()"
   ]
  },
  {
   "cell_type": "code",
   "execution_count": null,
   "metadata": {},
   "outputs": [],
   "source": []
  },
  {
   "cell_type": "markdown",
   "metadata": {},
   "source": [
    "#### Not-so-flexible example\n",
    "???"
   ]
  },
  {
   "cell_type": "code",
   "execution_count": null,
   "metadata": {},
   "outputs": [],
   "source": []
  },
  {
   "cell_type": "code",
   "execution_count": null,
   "metadata": {},
   "outputs": [],
   "source": []
  },
  {
   "cell_type": "code",
   "execution_count": null,
   "metadata": {},
   "outputs": [],
   "source": []
  },
  {
   "cell_type": "markdown",
   "metadata": {},
   "source": [
    "## 赛区比赛结果"
   ]
  },
  {
   "cell_type": "code",
   "execution_count": 289,
   "metadata": {},
   "outputs": [],
   "source": [
    "ranking = {\n",
    "    'Opponent14': 13,\n",
    "    'Opponent13': 17,\n",
    "    'Opponent15': 16,\n",
    "    'Opponent17': 12,\n",
    "    'Opponent18': 18,\n",
    "    'Opponent16': 4,\n",
    "    'Opponent2': 1,\n",
    "    'Opponent1': 19,\n",
    "    'Opponent8': 14,\n",
    "    'Opponent7': 7,\n",
    "    'Opponent11': 15,\n",
    "    'Opponent12': 11,\n",
    "    'Opponent9': 6,\n",
    "    'Opponent10': 9,\n",
    "    'Opponent19': 20,\n",
    "    'Opponent4': 3,\n",
    "    'Opponent5': 2,\n",
    "    'Opponent6': 10,\n",
    "    'Opponent3': 5\n",
    "}"
   ]
  },
  {
   "cell_type": "code",
   "execution_count": 341,
   "metadata": {},
   "outputs": [],
   "source": [
    "ranking = pd.Series(ranking)\n",
    "ranking = ranking.sort_values()"
   ]
  },
  {
   "cell_type": "code",
   "execution_count": 360,
   "metadata": {},
   "outputs": [],
   "source": [
    "ind = np.in1d(df_matches['OpponentID'], ranking[ranking <= 5].index.values)\n",
    "df_win = df_matches.iloc[ind]\n",
    "\n",
    "column = df_win['Huskies_network_params']\n",
    "huskies_params = pd.DataFrame.from_dict({\n",
    "    np.array(column.index)[ind]: eval(item)\n",
    "    for ind, item in enumerate(column.values)\n",
    "    }, orient='index')\n",
    "\n",
    "column = df_win['Opponent_network_params']\n",
    "oppo_params = pd.DataFrame.from_dict({\n",
    "    np.array(column.index)[ind]: eval(item)\n",
    "    for ind, item in enumerate(column.values)\n",
    "    }, orient='index')"
   ]
  },
  {
   "cell_type": "code",
   "execution_count": 365,
   "metadata": {},
   "outputs": [
    {
     "data": {
      "image/png": "[encoded data removed]",
      "text/plain": [
       "<Figure size 1224x720 with 6 Axes>"
      ]
     },
     "metadata": {
      "needs_background": "light"
     },
     "output_type": "display_data"
    }
   ],
   "source": [
    "fig, axes = plt.subplots(2, 3, figsize=(17, 10))\n",
    "\n",
    "ylabel_set = ['Clustering', 'Shortest Path', \n",
    "              r'$\\lambda_1$', r'$\\widetilde{\\lambda_2}$', \n",
    "              'Cent. Max', 'Cent. Std']\n",
    "\n",
    "for ind, column in enumerate(huskies_params.columns):\n",
    "    ax = axes[ind // 3, ind % 3]\n",
    "    \n",
    "    huskie = calc_mean_std(huskies_params[column]) \n",
    "    oppo = calc_mean_std(oppo_params[column])\n",
    "    \n",
    "    levene = stats.levene(huskies_params[column].values, oppo_params[column].values)\n",
    "    ttest = stats.ttest_ind(huskies_params[column].values, \n",
    "                            oppo_params[column].values, \n",
    "                            equal_var=(levene.pvalue > 0.10))\n",
    "    pvalue = ttest.pvalue\n",
    "\n",
    "    x_label = ['Huskies', 'Opponents']\n",
    "    x_pos = [1.5, 3.0]\n",
    "    \n",
    "    ax.bar(x_pos, [huskie[0], oppo[0]], \n",
    "           yerr=[huskie[1], oppo[1]], \n",
    "           error_kw={'capsize': 3}, \n",
    "           width=1, color=color_func(pvalue), \n",
    "           edgecolor='gray',\n",
    "           alpha=0.6)\n",
    "    ylim = ax.get_ylim()\n",
    "    ax.text(0.5, ylim[1] - (ylim[1] - ylim[0]) * 0.02, r'$p={:.2f}$'.format(pvalue))\n",
    "    ax.set_xlim(0, 4.5)\n",
    "    ax.set_ylim(ylim[0], ylim[0] + 1.1 * (ylim[1] - ylim[0]))\n",
    "    ax.set_xticks(x_pos)\n",
    "    ax.set_xticklabels(x_label)\n",
    "    ax.set_ylabel(ylabel_set[ind])\n",
    "    ax.tick_params(direction='in')\n",
    "    \n",
    "plt.subplots_adjust(wspace=0.3)\n",
    "\n",
    "plt.savefig('./Draft/top6-network-params.pdf', dpi=200, bbox_inches='tight')\n",
    "plt.savefig('./Draft/top6-network-params.png', dpi=200, bbox_inches='tight')"
   ]
  },
  {
   "cell_type": "code",
   "execution_count": null,
   "metadata": {},
   "outputs": [],
   "source": []
  }
 ],
 "metadata": {
  "kernelspec": {
   "display_name": "Python 3",
   "language": "python",
   "name": "python3"
  },
  "language_info": {
   "codemirror_mode": {
    "name": "ipython",
    "version": 3
   },
   "file_extension": ".py",
   "mimetype": "text/x-python",
   "name": "python",
   "nbconvert_exporter": "python",
   "pygments_lexer": "ipython3",
   "version": "3.7.0"
  },
  "notify_time": "5"
 },
 "nbformat": 4,
 "nbformat_minor": 2
}
