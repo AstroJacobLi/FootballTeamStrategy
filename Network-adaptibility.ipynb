{
 "cells": [
  {
   "cell_type": "code",
   "execution_count": 6,
   "metadata": {},
   "outputs": [
    {
     "name": "stdout",
     "output_type": "stream",
     "text": [
      "The autoreload extension is already loaded. To reload it, use:\n",
      "  %reload_ext autoreload\n"
     ]
    }
   ],
   "source": [
    "%matplotlib inline\n",
    "%load_ext autoreload\n",
    "%autoreload 2\n",
    "\n",
    "import warnings\n",
    "warnings.filterwarnings('ignore')\n",
    "import numpy as np\n",
    "import pandas as pd\n",
    "import matplotlib.pyplot as plt\n",
    "import networkx as nx\n",
    "import utils # local file\n",
    "\n",
    "plt.rc('text', usetex=True)\n",
    "plt.rcParams['font.family'] = 'serif'\n",
    "plt.rc('font', size=17)"
   ]
  },
  {
   "cell_type": "code",
   "execution_count": 18,
   "metadata": {},
   "outputs": [],
   "source": [
    "def calc_mean_std(x):\n",
    "    return (np.mean(x), np.std(x, ddof=1) / np.sqrt(len(x)))\n",
    "\n",
    "def color_func(p):\n",
    "    if p > 0.2:\n",
    "        return 'dodgerblue'\n",
    "    elif p < 0.05:\n",
    "        return 'orange'\n",
    "    else:\n",
    "        return 'seagreen'"
   ]
  },
  {
   "cell_type": "code",
   "execution_count": 7,
   "metadata": {},
   "outputs": [],
   "source": [
    "df_matches = pd.read_csv('./matches_flexibility.csv', index_col=0)"
   ]
  },
  {
   "cell_type": "code",
   "execution_count": 8,
   "metadata": {},
   "outputs": [
    {
     "data": {
      "text/html": [
       "<div>\n",
       "<style scoped>\n",
       "    .dataframe tbody tr th:only-of-type {\n",
       "        vertical-align: middle;\n",
       "    }\n",
       "\n",
       "    .dataframe tbody tr th {\n",
       "        vertical-align: top;\n",
       "    }\n",
       "\n",
       "    .dataframe thead th {\n",
       "        text-align: right;\n",
       "    }\n",
       "</style>\n",
       "<table border=\"1\" class=\"dataframe\">\n",
       "  <thead>\n",
       "    <tr style=\"text-align: right;\">\n",
       "      <th></th>\n",
       "      <th>MatchID</th>\n",
       "      <th>OpponentID</th>\n",
       "      <th>Outcome</th>\n",
       "      <th>OwnScore</th>\n",
       "      <th>OpponentScore</th>\n",
       "      <th>Side</th>\n",
       "      <th>CoachID</th>\n",
       "      <th>Huskies_network_params</th>\n",
       "      <th>Opponent_network_params</th>\n",
       "      <th>Huskies_mean_50time</th>\n",
       "      <th>Opponent_mean_50time</th>\n",
       "      <th>time_lag</th>\n",
       "    </tr>\n",
       "  </thead>\n",
       "  <tbody>\n",
       "    <tr>\n",
       "      <th>0</th>\n",
       "      <td>1</td>\n",
       "      <td>Opponent1</td>\n",
       "      <td>win</td>\n",
       "      <td>1</td>\n",
       "      <td>0</td>\n",
       "      <td>home</td>\n",
       "      <td>Coach1</td>\n",
       "      <td>{'clustering_coeff': 0.09591148659543136, 'sho...</td>\n",
       "      <td>{'clustering_coeff': 0.12727017100674862, 'sho...</td>\n",
       "      <td>691.105482</td>\n",
       "      <td>1487.586192</td>\n",
       "      <td>13.181913</td>\n",
       "    </tr>\n",
       "    <tr>\n",
       "      <th>1</th>\n",
       "      <td>2</td>\n",
       "      <td>Opponent2</td>\n",
       "      <td>tie</td>\n",
       "      <td>1</td>\n",
       "      <td>1</td>\n",
       "      <td>away</td>\n",
       "      <td>Coach1</td>\n",
       "      <td>{'clustering_coeff': 0.13558418994397967, 'sho...</td>\n",
       "      <td>{'clustering_coeff': 0.15137551104001684, 'sho...</td>\n",
       "      <td>1283.008325</td>\n",
       "      <td>709.892932</td>\n",
       "      <td>10.458257</td>\n",
       "    </tr>\n",
       "    <tr>\n",
       "      <th>2</th>\n",
       "      <td>3</td>\n",
       "      <td>Opponent3</td>\n",
       "      <td>loss</td>\n",
       "      <td>0</td>\n",
       "      <td>2</td>\n",
       "      <td>away</td>\n",
       "      <td>Coach1</td>\n",
       "      <td>{'clustering_coeff': 0.12456657946374812, 'sho...</td>\n",
       "      <td>{'clustering_coeff': 0.1305149813894459, 'shor...</td>\n",
       "      <td>786.066763</td>\n",
       "      <td>604.883916</td>\n",
       "      <td>-35.596034</td>\n",
       "    </tr>\n",
       "  </tbody>\n",
       "</table>\n",
       "</div>"
      ],
      "text/plain": [
       "   MatchID OpponentID Outcome  OwnScore  OpponentScore  Side CoachID  \\\n",
       "0        1  Opponent1     win         1              0  home  Coach1   \n",
       "1        2  Opponent2     tie         1              1  away  Coach1   \n",
       "2        3  Opponent3    loss         0              2  away  Coach1   \n",
       "\n",
       "                              Huskies_network_params  \\\n",
       "0  {'clustering_coeff': 0.09591148659543136, 'sho...   \n",
       "1  {'clustering_coeff': 0.13558418994397967, 'sho...   \n",
       "2  {'clustering_coeff': 0.12456657946374812, 'sho...   \n",
       "\n",
       "                             Opponent_network_params  Huskies_mean_50time  \\\n",
       "0  {'clustering_coeff': 0.12727017100674862, 'sho...           691.105482   \n",
       "1  {'clustering_coeff': 0.15137551104001684, 'sho...          1283.008325   \n",
       "2  {'clustering_coeff': 0.1305149813894459, 'shor...           786.066763   \n",
       "\n",
       "   Opponent_mean_50time   time_lag  \n",
       "0           1487.586192  13.181913  \n",
       "1            709.892932  10.458257  \n",
       "2            604.883916 -35.596034  "
      ]
     },
     "execution_count": 8,
     "metadata": {},
     "output_type": "execute_result"
    }
   ],
   "source": [
    "df_matches[:3]"
   ]
  },
  {
   "cell_type": "markdown",
   "metadata": {},
   "source": [
    "# Adaptibility"
   ]
  },
  {
   "cell_type": "markdown",
   "metadata": {},
   "source": [
    "## 1. Home/away??"
   ]
  },
  {
   "cell_type": "code",
   "execution_count": 10,
   "metadata": {},
   "outputs": [
    {
     "data": {
      "text/html": [
       "<div>\n",
       "<style scoped>\n",
       "    .dataframe tbody tr th:only-of-type {\n",
       "        vertical-align: middle;\n",
       "    }\n",
       "\n",
       "    .dataframe tbody tr th {\n",
       "        vertical-align: top;\n",
       "    }\n",
       "\n",
       "    .dataframe thead th {\n",
       "        text-align: right;\n",
       "    }\n",
       "</style>\n",
       "<table border=\"1\" class=\"dataframe\">\n",
       "  <thead>\n",
       "    <tr style=\"text-align: right;\">\n",
       "      <th></th>\n",
       "      <th>MatchID</th>\n",
       "      <th>OwnScore</th>\n",
       "      <th>OpponentScore</th>\n",
       "      <th>Huskies_mean_50time</th>\n",
       "      <th>Opponent_mean_50time</th>\n",
       "      <th>time_lag</th>\n",
       "    </tr>\n",
       "    <tr>\n",
       "      <th>Side</th>\n",
       "      <th></th>\n",
       "      <th></th>\n",
       "      <th></th>\n",
       "      <th></th>\n",
       "      <th></th>\n",
       "      <th></th>\n",
       "    </tr>\n",
       "  </thead>\n",
       "  <tbody>\n",
       "    <tr>\n",
       "      <th>away</th>\n",
       "      <td>19.578947</td>\n",
       "      <td>0.842105</td>\n",
       "      <td>1.894737</td>\n",
       "      <td>1156.040433</td>\n",
       "      <td>875.060139</td>\n",
       "      <td>1.133102</td>\n",
       "    </tr>\n",
       "    <tr>\n",
       "      <th>home</th>\n",
       "      <td>19.421053</td>\n",
       "      <td>1.473684</td>\n",
       "      <td>1.157895</td>\n",
       "      <td>1099.156815</td>\n",
       "      <td>981.738771</td>\n",
       "      <td>-7.919740</td>\n",
       "    </tr>\n",
       "  </tbody>\n",
       "</table>\n",
       "</div>"
      ],
      "text/plain": [
       "        MatchID  OwnScore  OpponentScore  Huskies_mean_50time  \\\n",
       "Side                                                            \n",
       "away  19.578947  0.842105       1.894737          1156.040433   \n",
       "home  19.421053  1.473684       1.157895          1099.156815   \n",
       "\n",
       "      Opponent_mean_50time  time_lag  \n",
       "Side                                  \n",
       "away            875.060139  1.133102  \n",
       "home            981.738771 -7.919740  "
      ]
     },
     "execution_count": 10,
     "metadata": {},
     "output_type": "execute_result"
    }
   ],
   "source": [
    "df_matches.groupby('Side').mean()"
   ]
  },
  {
   "cell_type": "code",
   "execution_count": 11,
   "metadata": {},
   "outputs": [],
   "source": [
    "df_home = df_matches[df_matches['Side'] == 'home']\n",
    "df_away = df_matches[df_matches['Side'] == 'away']"
   ]
  },
  {
   "cell_type": "code",
   "execution_count": 13,
   "metadata": {},
   "outputs": [
    {
     "data": {
      "text/html": [
       "<div>\n",
       "<style scoped>\n",
       "    .dataframe tbody tr th:only-of-type {\n",
       "        vertical-align: middle;\n",
       "    }\n",
       "\n",
       "    .dataframe tbody tr th {\n",
       "        vertical-align: top;\n",
       "    }\n",
       "\n",
       "    .dataframe thead th {\n",
       "        text-align: right;\n",
       "    }\n",
       "</style>\n",
       "<table border=\"1\" class=\"dataframe\">\n",
       "  <thead>\n",
       "    <tr style=\"text-align: right;\">\n",
       "      <th></th>\n",
       "      <th>MatchID</th>\n",
       "      <th>OpponentID</th>\n",
       "      <th>Outcome</th>\n",
       "      <th>OwnScore</th>\n",
       "      <th>OpponentScore</th>\n",
       "      <th>Side</th>\n",
       "      <th>CoachID</th>\n",
       "      <th>Huskies_network_params</th>\n",
       "      <th>Opponent_network_params</th>\n",
       "      <th>Huskies_mean_50time</th>\n",
       "      <th>Opponent_mean_50time</th>\n",
       "      <th>time_lag</th>\n",
       "    </tr>\n",
       "  </thead>\n",
       "  <tbody>\n",
       "    <tr>\n",
       "      <th>0</th>\n",
       "      <td>1</td>\n",
       "      <td>Opponent1</td>\n",
       "      <td>win</td>\n",
       "      <td>1</td>\n",
       "      <td>0</td>\n",
       "      <td>home</td>\n",
       "      <td>Coach1</td>\n",
       "      <td>{'clustering_coeff': 0.09591148659543136, 'sho...</td>\n",
       "      <td>{'clustering_coeff': 0.12727017100674862, 'sho...</td>\n",
       "      <td>691.105482</td>\n",
       "      <td>1487.586192</td>\n",
       "      <td>13.181913</td>\n",
       "    </tr>\n",
       "    <tr>\n",
       "      <th>3</th>\n",
       "      <td>4</td>\n",
       "      <td>Opponent4</td>\n",
       "      <td>loss</td>\n",
       "      <td>0</td>\n",
       "      <td>3</td>\n",
       "      <td>home</td>\n",
       "      <td>Coach1</td>\n",
       "      <td>{'clustering_coeff': 0.13348612342014946, 'sho...</td>\n",
       "      <td>{'clustering_coeff': 0.10506435556251267, 'sho...</td>\n",
       "      <td>867.246184</td>\n",
       "      <td>791.518237</td>\n",
       "      <td>-32.366599</td>\n",
       "    </tr>\n",
       "  </tbody>\n",
       "</table>\n",
       "</div>"
      ],
      "text/plain": [
       "   MatchID OpponentID Outcome  OwnScore  OpponentScore  Side CoachID  \\\n",
       "0        1  Opponent1     win         1              0  home  Coach1   \n",
       "3        4  Opponent4    loss         0              3  home  Coach1   \n",
       "\n",
       "                              Huskies_network_params  \\\n",
       "0  {'clustering_coeff': 0.09591148659543136, 'sho...   \n",
       "3  {'clustering_coeff': 0.13348612342014946, 'sho...   \n",
       "\n",
       "                             Opponent_network_params  Huskies_mean_50time  \\\n",
       "0  {'clustering_coeff': 0.12727017100674862, 'sho...           691.105482   \n",
       "3  {'clustering_coeff': 0.10506435556251267, 'sho...           867.246184   \n",
       "\n",
       "   Opponent_mean_50time   time_lag  \n",
       "0           1487.586192  13.181913  \n",
       "3            791.518237 -32.366599  "
      ]
     },
     "execution_count": 13,
     "metadata": {},
     "output_type": "execute_result"
    }
   ],
   "source": [
    "df_home[:2]"
   ]
  },
  {
   "cell_type": "code",
   "execution_count": 89,
   "metadata": {},
   "outputs": [
    {
     "data": {
      "image/png": "[encoded data removed]",
      "text/plain": [
       "<Figure size 1440x288 with 4 Axes>"
      ]
     },
     "metadata": {
      "needs_background": "light"
     },
     "output_type": "display_data"
    }
   ],
   "source": [
    "fig, axes = plt.subplots(1, 4, figsize=(20, 4))\n",
    "\n",
    "from scipy import stats\n",
    "ylabel_set = ['OwnScore', 'OpponentScore', \n",
    "              r'Huskies $<t_{50}>$ (s)', r'Opponent $<t_{50}>$ (s)']\n",
    "\n",
    "tag_set = ['A', 'B', 'C', 'D', 'E', 'F']\n",
    "\n",
    "for ind, column in enumerate(['OwnScore', 'OpponentScore', \n",
    "                              'Huskies_mean_50time', 'Opponent_mean_50time']):\n",
    "    ax = axes[ind % 4]\n",
    "    \n",
    "    home = calc_mean_std(df_home[column]) \n",
    "    away = calc_mean_std(df_away[column])\n",
    "    \n",
    "    levene = stats.levene(df_home[column], df_away[column])\n",
    "    ttest = stats.ttest_ind(df_home[column], df_away[column], \n",
    "                            equal_var=(levene.pvalue > 0.10))\n",
    "    pvalue = ttest.pvalue\n",
    "\n",
    "    x_label = ['Home', 'Away']\n",
    "    x_pos = [1.5, 3.0]\n",
    "    \n",
    "    ax.bar(x_pos, [home[0], away[0]], \n",
    "           yerr=[home[1], away[1]], \n",
    "           error_kw={'capsize': 3}, \n",
    "           width=1, color=color_func(pvalue), \n",
    "           edgecolor='gray',\n",
    "           alpha=0.6)\n",
    "    ylim = ax.get_ylim()\n",
    "    ax.text(0.5, ylim[1] - (ylim[1] - ylim[0]) * 0.02, r'$p={:.2f}$'.format(pvalue))\n",
    "    ax.set_xlim(0, 4.5)\n",
    "    ax.set_ylim(ylim[0], ylim[0] + 1.1 * (ylim[1] - ylim[0]))\n",
    "    ax.set_xticks(x_pos)\n",
    "    ax.set_xticklabels(x_label)\n",
    "    ax.set_ylabel(ylabel_set[ind])\n",
    "    ax.tick_params(direction='in')\n",
    "    \n",
    "    ax.text(3.9, ylim[1] - (ylim[1] - ylim[0]) * 0.02, \n",
    "            r'$\\textbf{' + tag_set[ind] + '}$', \n",
    "            fontsize=17,\n",
    "            fontweight='bold',\n",
    "            horizontalalignment='center', \n",
    "            verticalalignment='center')\n",
    "    \n",
    "plt.subplots_adjust(wspace=0.35)\n",
    "\n",
    "plt.savefig('./Draft/home-away-score.pdf', dpi=200, bbox_inches='tight')\n",
    "plt.savefig('./Draft/home-away-score.png', dpi=200, bbox_inches='tight')"
   ]
  },
  {
   "cell_type": "code",
   "execution_count": null,
   "metadata": {},
   "outputs": [],
   "source": []
  },
  {
   "cell_type": "markdown",
   "metadata": {},
   "source": [
    "network params是否有区别？？？ 没求区别。。。"
   ]
  },
  {
   "cell_type": "code",
   "execution_count": 85,
   "metadata": {},
   "outputs": [
    {
     "data": {
      "image/png": "[encoded data removed]",
      "text/plain": [
       "<Figure size 1224x720 with 6 Axes>"
      ]
     },
     "metadata": {
      "needs_background": "light"
     },
     "output_type": "display_data"
    }
   ],
   "source": [
    "fig, axes = plt.subplots(2, 3, figsize=(17, 10))\n",
    "\n",
    "from scipy import stats\n",
    "ylabel_set = ['Clustering', 'Shortest Path', \n",
    "              r'$\\lambda_1$', r'$\\widetilde{\\lambda_2}$', \n",
    "              'Cent. Max', 'Cent. Std']\n",
    "\n",
    "for ind, column in enumerate(['clustering_coeff', 'shortest_path', \n",
    "                              'largest_eigenvalue', 'algebraic_conn', \n",
    "                              'eigen_cen_max', 'eigen_cen_std']):\n",
    "    ax = axes[ind // 3, ind % 3]\n",
    "    \n",
    "    home_params = pd.DataFrame({ind: eval(item) for ind, item in df_home['Huskies_network_params'].iteritems()}).T\n",
    "    away_params = pd.DataFrame({ind: eval(item) for ind, item in df_away['Huskies_network_params'].iteritems()}).T\n",
    "    \n",
    "    home = calc_mean_std(home_params[column]) \n",
    "    away = calc_mean_std(away_params[column])\n",
    "    \n",
    "    levene = stats.levene(home_params[column], away_params[column])\n",
    "    ttest = stats.ttest_ind(home_params[column], away_params[column], \n",
    "                            equal_var=(levene.pvalue > 0.10))\n",
    "    pvalue = ttest.pvalue\n",
    "\n",
    "    x_label = ['Home', 'Away']\n",
    "    x_pos = [1.5, 3.0]\n",
    "    \n",
    "    ax.bar(x_pos, [home[0], away[0]], \n",
    "           yerr=[home[1], away[1]], \n",
    "           error_kw={'capsize': 3}, \n",
    "           width=1, color=color_func(pvalue), \n",
    "           edgecolor='gray',\n",
    "           alpha=0.6)\n",
    "    ylim = ax.get_ylim()\n",
    "    ax.text(0.5, ylim[1] - (ylim[1] - ylim[0]) * 0.02, r'$p={:.2f}$'.format(pvalue))\n",
    "    ax.set_xlim(0, 4.5)\n",
    "    ax.set_ylim(ylim[0], ylim[0] + 1.1 * (ylim[1] - ylim[0]))\n",
    "    ax.set_xticks(x_pos)\n",
    "    ax.set_xticklabels(x_label)\n",
    "    ax.set_ylabel(ylabel_set[ind])\n",
    "    ax.tick_params(direction='in')\n",
    "    \n",
    "    ax.text(3.9, ylim[1] - (ylim[1] - ylim[0]) * 0.02, \n",
    "            r'$\\textbf{' + tag_set[ind] + '}$', \n",
    "            fontsize=17,\n",
    "            fontweight='bold',\n",
    "            horizontalalignment='center', \n",
    "            verticalalignment='center')\n",
    "    \n",
    "plt.subplots_adjust(wspace=0.3) "
   ]
  },
  {
   "cell_type": "code",
   "execution_count": null,
   "metadata": {},
   "outputs": [],
   "source": []
  },
  {
   "cell_type": "code",
   "execution_count": null,
   "metadata": {},
   "outputs": [],
   "source": []
  },
  {
   "cell_type": "code",
   "execution_count": null,
   "metadata": {},
   "outputs": [],
   "source": []
  },
  {
   "cell_type": "code",
   "execution_count": null,
   "metadata": {},
   "outputs": [],
   "source": []
  },
  {
   "cell_type": "markdown",
   "metadata": {},
   "source": [
    "## 2. Coach?"
   ]
  },
  {
   "cell_type": "code",
   "execution_count": 32,
   "metadata": {},
   "outputs": [
    {
     "data": {
      "text/html": [
       "<div>\n",
       "<style scoped>\n",
       "    .dataframe tbody tr th:only-of-type {\n",
       "        vertical-align: middle;\n",
       "    }\n",
       "\n",
       "    .dataframe tbody tr th {\n",
       "        vertical-align: top;\n",
       "    }\n",
       "\n",
       "    .dataframe thead th {\n",
       "        text-align: right;\n",
       "    }\n",
       "</style>\n",
       "<table border=\"1\" class=\"dataframe\">\n",
       "  <thead>\n",
       "    <tr style=\"text-align: right;\">\n",
       "      <th></th>\n",
       "      <th>MatchID</th>\n",
       "      <th>OwnScore</th>\n",
       "      <th>OpponentScore</th>\n",
       "      <th>Huskies_mean_50time</th>\n",
       "      <th>Opponent_mean_50time</th>\n",
       "      <th>time_lag</th>\n",
       "    </tr>\n",
       "    <tr>\n",
       "      <th>CoachID</th>\n",
       "      <th></th>\n",
       "      <th></th>\n",
       "      <th></th>\n",
       "      <th></th>\n",
       "      <th></th>\n",
       "      <th></th>\n",
       "    </tr>\n",
       "  </thead>\n",
       "  <tbody>\n",
       "    <tr>\n",
       "      <th>Coach1</th>\n",
       "      <td>5.0</td>\n",
       "      <td>0.777778</td>\n",
       "      <td>2.00</td>\n",
       "      <td>933.327948</td>\n",
       "      <td>913.615427</td>\n",
       "      <td>-8.802039</td>\n",
       "    </tr>\n",
       "    <tr>\n",
       "      <th>Coach2</th>\n",
       "      <td>12.0</td>\n",
       "      <td>2.000000</td>\n",
       "      <td>2.00</td>\n",
       "      <td>1316.198610</td>\n",
       "      <td>856.199312</td>\n",
       "      <td>-1.421211</td>\n",
       "    </tr>\n",
       "    <tr>\n",
       "      <th>Coach3</th>\n",
       "      <td>26.5</td>\n",
       "      <td>1.125000</td>\n",
       "      <td>1.25</td>\n",
       "      <td>1161.158463</td>\n",
       "      <td>948.985162</td>\n",
       "      <td>-1.775905</td>\n",
       "    </tr>\n",
       "  </tbody>\n",
       "</table>\n",
       "</div>"
      ],
      "text/plain": [
       "         MatchID  OwnScore  OpponentScore  Huskies_mean_50time  \\\n",
       "CoachID                                                          \n",
       "Coach1       5.0  0.777778           2.00           933.327948   \n",
       "Coach2      12.0  2.000000           2.00          1316.198610   \n",
       "Coach3      26.5  1.125000           1.25          1161.158463   \n",
       "\n",
       "         Opponent_mean_50time  time_lag  \n",
       "CoachID                                  \n",
       "Coach1             913.615427 -8.802039  \n",
       "Coach2             856.199312 -1.421211  \n",
       "Coach3             948.985162 -1.775905  "
      ]
     },
     "execution_count": 32,
     "metadata": {},
     "output_type": "execute_result"
    }
   ],
   "source": [
    "df_matches.groupby('CoachID').mean()"
   ]
  },
  {
   "cell_type": "markdown",
   "metadata": {},
   "source": [
    "ANOVA"
   ]
  },
  {
   "cell_type": "code",
   "execution_count": 43,
   "metadata": {},
   "outputs": [
    {
     "data": {
      "text/plain": [
       "F_onewayResult(statistic=2.4944395731303057, pvalue=0.09710782489844355)"
      ]
     },
     "execution_count": 43,
     "metadata": {},
     "output_type": "execute_result"
    }
   ],
   "source": [
    "stats.f_oneway(df_matches[df_matches['CoachID'] == 'Coach1']['OwnScore'], \n",
    "               df_matches[df_matches['CoachID'] == 'Coach2']['OwnScore'], \n",
    "               df_matches[df_matches['CoachID'] == 'Coach3']['OwnScore'])"
   ]
  },
  {
   "cell_type": "markdown",
   "metadata": {},
   "source": [
    "不同coach会导致score不同吗？"
   ]
  },
  {
   "cell_type": "code",
   "execution_count": 38,
   "metadata": {},
   "outputs": [
    {
     "data": {
      "text/html": [
       "<div>\n",
       "<style scoped>\n",
       "    .dataframe tbody tr th:only-of-type {\n",
       "        vertical-align: middle;\n",
       "    }\n",
       "\n",
       "    .dataframe tbody tr th {\n",
       "        vertical-align: top;\n",
       "    }\n",
       "\n",
       "    .dataframe thead th {\n",
       "        text-align: right;\n",
       "    }\n",
       "</style>\n",
       "<table border=\"1\" class=\"dataframe\">\n",
       "  <thead>\n",
       "    <tr style=\"text-align: right;\">\n",
       "      <th></th>\n",
       "      <th>MatchID</th>\n",
       "      <th>OwnScore</th>\n",
       "      <th>OpponentScore</th>\n",
       "      <th>Huskies_mean_50time</th>\n",
       "      <th>Opponent_mean_50time</th>\n",
       "      <th>time_lag</th>\n",
       "    </tr>\n",
       "    <tr>\n",
       "      <th>Outcome</th>\n",
       "      <th></th>\n",
       "      <th></th>\n",
       "      <th></th>\n",
       "      <th></th>\n",
       "      <th></th>\n",
       "      <th></th>\n",
       "    </tr>\n",
       "  </thead>\n",
       "  <tbody>\n",
       "    <tr>\n",
       "      <th>loss</th>\n",
       "      <td>5.6</td>\n",
       "      <td>0.4</td>\n",
       "      <td>3.0</td>\n",
       "      <td>939.330040</td>\n",
       "      <td>824.991737</td>\n",
       "      <td>-21.938465</td>\n",
       "    </tr>\n",
       "    <tr>\n",
       "      <th>tie</th>\n",
       "      <td>5.0</td>\n",
       "      <td>1.0</td>\n",
       "      <td>1.0</td>\n",
       "      <td>1084.037999</td>\n",
       "      <td>842.096903</td>\n",
       "      <td>9.423518</td>\n",
       "    </tr>\n",
       "    <tr>\n",
       "      <th>win</th>\n",
       "      <td>3.5</td>\n",
       "      <td>1.5</td>\n",
       "      <td>0.5</td>\n",
       "      <td>767.612669</td>\n",
       "      <td>1206.693176</td>\n",
       "      <td>5.813469</td>\n",
       "    </tr>\n",
       "  </tbody>\n",
       "</table>\n",
       "</div>"
      ],
      "text/plain": [
       "         MatchID  OwnScore  OpponentScore  Huskies_mean_50time  \\\n",
       "Outcome                                                          \n",
       "loss         5.6       0.4            3.0           939.330040   \n",
       "tie          5.0       1.0            1.0          1084.037999   \n",
       "win          3.5       1.5            0.5           767.612669   \n",
       "\n",
       "         Opponent_mean_50time   time_lag  \n",
       "Outcome                                   \n",
       "loss               824.991737 -21.938465  \n",
       "tie                842.096903   9.423518  \n",
       "win               1206.693176   5.813469  "
      ]
     },
     "execution_count": 38,
     "metadata": {},
     "output_type": "execute_result"
    }
   ],
   "source": [
    "df_matches[df_matches['CoachID'] == 'Coach1'].groupby('Outcome').mean()"
   ]
  },
  {
   "cell_type": "code",
   "execution_count": 92,
   "metadata": {
    "scrolled": false
   },
   "outputs": [
    {
     "data": {
      "image/png": "[encoded data removed]",
      "text/plain": [
       "<Figure size 1080x288 with 3 Axes>"
      ]
     },
     "metadata": {
      "needs_background": "light"
     },
     "output_type": "display_data"
    }
   ],
   "source": [
    "# Coach difference??\n",
    "from scipy import stats\n",
    "from utils import color_func, calc_mean_std\n",
    "\n",
    "fig, axes = plt.subplots(1, 3, figsize=(15, 4), sharey=False)\n",
    "\n",
    "ylabel_set = [r'Huskies Score', r'Opponent Score', 'Huskies $t_{50}$ (s)']\n",
    "\n",
    "tag_set = ['A', 'B', 'C', 'D', 'E', 'F']\n",
    "\n",
    "for ind, column in enumerate(['OwnScore', 'OpponentScore', 'Huskies_mean_50time']):\n",
    "    ax = axes[ind]\n",
    "    \n",
    "    score_dict = {outcome: \n",
    "                  df_matches[df_matches['CoachID'] == outcome][column] for outcome in ['Coach1', 'Coach2', 'Coach3']}\n",
    "    \n",
    "    win = calc_mean_std(score_dict['Coach1'])\n",
    "    tie = calc_mean_std(score_dict['Coach2'])\n",
    "    loss = calc_mean_std(score_dict['Coach3'])\n",
    "    \n",
    "    anova = stats.f_oneway(score_dict['Coach1'].values, \n",
    "                           score_dict['Coach2'].values, \n",
    "                           score_dict['Coach3'].values)\n",
    "    pvalue = anova.pvalue\n",
    "\n",
    "    x_label = ['Coach1', 'Coach2', 'Coach3']\n",
    "    \n",
    "    x_pos = [1.5, 3.0, 4.5]\n",
    "    \n",
    "    ax.bar(x_pos, [win[0], tie[0], loss[0]], \n",
    "           yerr=[win[1], tie[1], loss[1]], \n",
    "           error_kw={'capsize': 3}, \n",
    "           width=1, color=color_func(pvalue), \n",
    "           edgecolor='gray',\n",
    "           alpha=0.6)\n",
    "    ax.tick_params(direction='in', labelleft=True)\n",
    "    ylim = ax.get_ylim()\n",
    "    ax.set_xlim(0, 6)\n",
    "    ax.text(0.5, ylim[1] - (ylim[1] - ylim[0]) * 0.02, r'$p={:.3f}$'.format(pvalue))\n",
    "    ax.set_ylim(ylim[0], ylim[0] + 1.1 * (ylim[1] - ylim[0]))\n",
    "    #ax.text(0.5, 1800, r'$p={:.3f}$'.format(pvalue))\n",
    "    #ax.set_ylim(0, 2000)\n",
    "    ax.set_xticks(x_pos)\n",
    "    ax.set_xticklabels(x_label)\n",
    "    ax.set_ylabel(ylabel_set[ind])\n",
    "    \n",
    "    ax.text(5.2, ylim[1] - (ylim[1] - ylim[0]) * 0.02, \n",
    "            r'$\\textbf{' + tag_set[ind] + '}$', \n",
    "            fontsize=17,\n",
    "            fontweight='bold',\n",
    "            horizontalalignment='center', \n",
    "            verticalalignment='center')\n",
    "    \n",
    "    \n",
    "plt.subplots_adjust(wspace=0.3)\n",
    "\n",
    "plt.savefig('./Draft/coach-score.pdf', dpi=200, bbox_inches='tight')\n",
    "plt.savefig('./Draft/coach-score.png', dpi=200, bbox_inches='tight')"
   ]
  },
  {
   "cell_type": "code",
   "execution_count": null,
   "metadata": {},
   "outputs": [],
   "source": []
  },
  {
   "cell_type": "code",
   "execution_count": null,
   "metadata": {},
   "outputs": [],
   "source": []
  },
  {
   "cell_type": "markdown",
   "metadata": {},
   "source": [
    "不同coach会导致structure/network不同吗？ 没求不同！"
   ]
  },
  {
   "cell_type": "code",
   "execution_count": 74,
   "metadata": {},
   "outputs": [
    {
     "data": {
      "image/png": "[encoded data removed]",
      "text/plain": [
       "<Figure size 1224x720 with 6 Axes>"
      ]
     },
     "metadata": {
      "needs_background": "light"
     },
     "output_type": "display_data"
    }
   ],
   "source": [
    "# Coach difference??\n",
    "from scipy import stats\n",
    "from utils import color_func, calc_mean_std\n",
    "\n",
    "fig, axes = plt.subplots(2, 3, figsize=(17, 10))\n",
    "\n",
    "ylabel_set = ['Clustering', 'Shortest Path', \n",
    "              r'$\\lambda_1$', r'$\\widetilde{\\lambda_2}$', \n",
    "              'Cent. Max', 'Cent. Std']\n",
    "\n",
    "\n",
    "for ind, column in enumerate(['clustering_coeff', 'shortest_path', \n",
    "                              'largest_eigenvalue', 'algebraic_conn', \n",
    "                              'eigen_cen_max', 'eigen_cen_std']):\n",
    "    ax = axes[ind // 3, ind % 3]\n",
    "    \n",
    "    \n",
    "    score_dict = {\n",
    "                    outcome: df_matches[df_matches['CoachID'] == outcome]\n",
    "                    for outcome in ['Coach1', 'Coach2', 'Coach3']\n",
    "                 }\n",
    "    \n",
    "    win_params = pd.DataFrame({ind: eval(item) for ind, item in score_dict['Coach1']['Huskies_network_params'].iteritems()}).T\n",
    "    tie_params = pd.DataFrame({ind: eval(item) for ind, item in score_dict['Coach2']['Huskies_network_params'].iteritems()}).T\n",
    "    loss_params = pd.DataFrame({ind: eval(item) for ind, item in score_dict['Coach3']['Huskies_network_params'].iteritems()}).T\n",
    "    \n",
    "    \n",
    "    win = calc_mean_std(win_params[column])\n",
    "    tie = calc_mean_std(tie_params[column])\n",
    "    loss = calc_mean_std(loss_params[column])\n",
    "    \n",
    "    anova = stats.f_oneway(win_params[column].values, \n",
    "                           tie_params[column].values, \n",
    "                           loss_params[column].values)\n",
    "    pvalue = anova.pvalue\n",
    "\n",
    "    x_label = ['Coach1', 'Coach2', 'Coach3']\n",
    "    \n",
    "    x_pos = [1.5, 3.0, 4.5]\n",
    "    \n",
    "    ax.bar(x_pos, [win[0], tie[0], loss[0]], \n",
    "           yerr=[win[1], tie[1], loss[1]], \n",
    "           error_kw={'capsize': 3}, \n",
    "           width=1, color=color_func(pvalue), \n",
    "           edgecolor='gray',\n",
    "           alpha=0.6)\n",
    "    ax.tick_params(direction='in', labelleft=True)\n",
    "    ylim = ax.get_ylim()\n",
    "    ax.set_xlim(0, 6)\n",
    "    ax.text(0.5, ylim[1] - (ylim[1] - ylim[0]) * 0.02, r'$p={:.3f}$'.format(pvalue))\n",
    "    ax.set_ylim(ylim[0], ylim[0] + 1.1 * (ylim[1] - ylim[0]))\n",
    "    #ax.text(0.5, 1800, r'$p={:.3f}$'.format(pvalue))\n",
    "    #ax.set_ylim(0, 2000)\n",
    "    ax.set_xticks(x_pos)\n",
    "    ax.set_xticklabels(x_label)\n",
    "    ax.set_ylabel(ylabel_set[ind])\n",
    "    \n",
    "    \n",
    "plt.subplots_adjust(wspace=0.3)\n",
    "\n",
    "#plt.savefig('./Draft/top6-network-params.pdf', dpi=200, bbox_inches='tight')\n",
    "#plt.savefig('./Draft/top6-network-params.png', dpi=200, bbox_inches='tight')"
   ]
  },
  {
   "cell_type": "markdown",
   "metadata": {},
   "source": [
    "不同coach应该在classical metric上有区别吧！"
   ]
  },
  {
   "cell_type": "code",
   "execution_count": null,
   "metadata": {},
   "outputs": [],
   "source": []
  },
  {
   "cell_type": "code",
   "execution_count": null,
   "metadata": {},
   "outputs": [],
   "source": []
  },
  {
   "cell_type": "code",
   "execution_count": null,
   "metadata": {},
   "outputs": [],
   "source": []
  },
  {
   "cell_type": "code",
   "execution_count": null,
   "metadata": {},
   "outputs": [],
   "source": []
  }
 ],
 "metadata": {
  "kernelspec": {
   "display_name": "Python 3",
   "language": "python",
   "name": "python3"
  },
  "language_info": {
   "codemirror_mode": {
    "name": "ipython",
    "version": 3
   },
   "file_extension": ".py",
   "mimetype": "text/x-python",
   "name": "python",
   "nbconvert_exporter": "python",
   "pygments_lexer": "ipython3",
   "version": "3.7.0"
  },
  "notify_time": "5"
 },
 "nbformat": 4,
 "nbformat_minor": 2
}
