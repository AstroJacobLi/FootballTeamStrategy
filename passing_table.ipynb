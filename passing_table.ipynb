{
 "cells": [
  {
   "cell_type": "markdown",
   "metadata": {},
   "source": [
    "# match $i$ Huskies players passing table\n",
    "\n",
    "## playername:[origin, destination]"
   ]
  },
  {
   "cell_type": "code",
   "execution_count": 28,
   "metadata": {},
   "outputs": [
    {
     "data": {
      "text/plain": [
       "{'Huskies_D1': [52, 44],\n",
       " 'Huskies_F1': [11, 19],\n",
       " 'Huskies_M1': [52, 51],\n",
       " 'Huskies_F2': [38, 46],\n",
       " 'Huskies_M2': [20, 15],\n",
       " 'Huskies_M3': [45, 37],\n",
       " 'Huskies_G1': [12, 12],\n",
       " 'Huskies_D2': [36, 30],\n",
       " 'Huskies_D3': [48, 47],\n",
       " 'Huskies_D4': [17, 23],\n",
       " 'Huskies_F3': [9, 13],\n",
       " 'Huskies_D5': [17, 20],\n",
       " 'Huskies_M4': [9, 8],\n",
       " 'Huskies_M5': [3, 4]}"
      ]
     },
     "execution_count": 28,
     "metadata": {},
     "output_type": "execute_result"
    }
   ],
   "source": [
    "#match_i is a number from 1 to 38\n",
    "import pandas as pd\n",
    "def match_i_Huskies_passing_table(match_i):\n",
    "    df = pd.read_csv('passingevents.csv')\n",
    "    player_dic = {}\n",
    "    for i in range(len(passing)):\n",
    "        if passing['MatchID'][i] == match_i:\n",
    "            if passing['TeamID'][i] == 'Huskies':\n",
    "                if passing['OriginPlayerID'][i] not in player_dic:\n",
    "                    player_dic[passing['OriginPlayerID'][i]] = [1, 0]\n",
    "                else:\n",
    "                    player_dic[passing['OriginPlayerID'][i]][0] += 1\n",
    "                if passing['DestinationPlayerID'][i] not in player_dic:\n",
    "                    player_dic[passing['DestinationPlayerID'][i]] = [0, 1]\n",
    "                else:\n",
    "                    player_dic[passing['DestinationPlayerID'][i]][1] += 1\n",
    "    return player_dic\n",
    "# example\n",
    "match_1_Huskies_passing_table = match_i_Huskies_passing_table(1)\n",
    "match_1_Huskies_passing_table"
   ]
  },
  {
   "cell_type": "markdown",
   "metadata": {},
   "source": [
    "# match $i$ Opponent players passing table"
   ]
  },
  {
   "cell_type": "code",
   "execution_count": 29,
   "metadata": {},
   "outputs": [
    {
     "data": {
      "text/plain": [
       "{'Opponent1_D2': [22, 18],\n",
       " 'Opponent1_G1': [14, 11],\n",
       " 'Opponent1_F1': [4, 7],\n",
       " 'Opponent1_D1': [15, 17],\n",
       " 'Opponent1_F2': [17, 19],\n",
       " 'Opponent1_M1': [32, 29],\n",
       " 'Opponent1_D3': [24, 23],\n",
       " 'Opponent1_M2': [17, 19],\n",
       " 'Opponent1_D4': [8, 7],\n",
       " 'Opponent1_M3': [27, 18],\n",
       " 'Opponent1_F3': [8, 12],\n",
       " 'Opponent1_F5': [6, 9],\n",
       " 'Opponent1_F4': [3, 8]}"
      ]
     },
     "execution_count": 29,
     "metadata": {},
     "output_type": "execute_result"
    }
   ],
   "source": [
    "import pandas as pd\n",
    "def match_i_Opponent_passing_table(match_i):\n",
    "    df = pd.read_csv('passingevents.csv')\n",
    "    player_dic = {}\n",
    "    for i in range(len(passing)):\n",
    "        if passing['MatchID'][i] == match_i:\n",
    "            if passing['TeamID'][i] != 'Huskies':\n",
    "                if passing['OriginPlayerID'][i] not in player_dic:\n",
    "                    player_dic[passing['OriginPlayerID'][i]] = [1, 0]\n",
    "                else:\n",
    "                    player_dic[passing['OriginPlayerID'][i]][0] += 1\n",
    "                if passing['DestinationPlayerID'][i] not in player_dic:\n",
    "                    player_dic[passing['DestinationPlayerID'][i]] = [0, 1]\n",
    "                else:\n",
    "                    player_dic[passing['DestinationPlayerID'][i]][1] += 1\n",
    "    return player_dic\n",
    "# example\n",
    "match_1_Opponent_passing_table = match_i_Opponent_passing_table(1)\n",
    "match_1_Opponent_passing_table"
   ]
  },
  {
   "cell_type": "markdown",
   "metadata": {},
   "source": [
    "# Huskies players passing table in all matches"
   ]
  },
  {
   "cell_type": "code",
   "execution_count": 30,
   "metadata": {},
   "outputs": [
    {
     "data": {
      "text/plain": [
       "{'Huskies_D1': [851, 678],\n",
       " 'Huskies_F1': [238, 473],\n",
       " 'Huskies_M1': [1255, 1017],\n",
       " 'Huskies_F2': [859, 927],\n",
       " 'Huskies_M2': [76, 69],\n",
       " 'Huskies_M3': [887, 717],\n",
       " 'Huskies_G1': [473, 496],\n",
       " 'Huskies_D2': [580, 467],\n",
       " 'Huskies_D3': [727, 582],\n",
       " 'Huskies_D4': [569, 615],\n",
       " 'Huskies_F3': [56, 73],\n",
       " 'Huskies_D5': [625, 581],\n",
       " 'Huskies_M4': [497, 521],\n",
       " 'Huskies_M5': [42, 41],\n",
       " 'Huskies_D6': [322, 327],\n",
       " 'Huskies_M6': [508, 537],\n",
       " 'Huskies_M7': [22, 18],\n",
       " 'Huskies_M8': [137, 177],\n",
       " 'Huskies_M9': [130, 142],\n",
       " 'Huskies_F4': [125, 289],\n",
       " 'Huskies_D7': [408, 449],\n",
       " 'Huskies_M10': [36, 40],\n",
       " 'Huskies_M11': [65, 50],\n",
       " 'Huskies_M12': [134, 215],\n",
       " 'Huskies_M13': [74, 57],\n",
       " 'Huskies_F5': [158, 223],\n",
       " 'Huskies_F6': [223, 295],\n",
       " 'Huskies_D8': [263, 287],\n",
       " 'Huskies_D9': [57, 41],\n",
       " 'Huskies_D10': [38, 31]}"
      ]
     },
     "execution_count": 30,
     "metadata": {},
     "output_type": "execute_result"
    }
   ],
   "source": [
    "import pandas as pd\n",
    "def Huskies_passing_table():\n",
    "    df = pd.read_csv('passingevents.csv')\n",
    "    player_dic = {}\n",
    "    for i in range(len(passing)):\n",
    "        if passing['TeamID'][i] == 'Huskies':\n",
    "            if passing['OriginPlayerID'][i] not in player_dic:\n",
    "                player_dic[passing['OriginPlayerID'][i]] = [1, 0]\n",
    "            else:\n",
    "                player_dic[passing['OriginPlayerID'][i]][0] += 1\n",
    "            if passing['DestinationPlayerID'][i] not in player_dic:\n",
    "                player_dic[passing['DestinationPlayerID'][i]] = [0, 1]\n",
    "            else:\n",
    "                player_dic[passing['DestinationPlayerID'][i]][1] += 1\n",
    "    return player_dic\n",
    "# example\n",
    "Huskies_passing_table_ = Huskies_passing_table()\n",
    "Huskies_passing_table_"
   ]
  },
  {
   "cell_type": "code",
   "execution_count": null,
   "metadata": {},
   "outputs": [],
   "source": []
  }
 ],
 "metadata": {
  "kernelspec": {
   "display_name": "Python 3",
   "language": "python",
   "name": "python3"
  },
  "language_info": {
   "codemirror_mode": {
    "name": "ipython",
    "version": 3
   },
   "file_extension": ".py",
   "mimetype": "text/x-python",
   "name": "python",
   "nbconvert_exporter": "python",
   "pygments_lexer": "ipython3",
   "version": "3.7.3"
  }
 },
 "nbformat": 4,
 "nbformat_minor": 2
}
