{
 "cells": [
  {
   "cell_type": "code",
   "execution_count": 146,
   "metadata": {},
   "outputs": [],
   "source": [
    "import warnings\n",
    "warnings.filterwarnings('ignore')\n",
    "import numpy as np\n",
    "import pandas as pd\n",
    "import matplotlib.pyplot as plt\n",
    "\n",
    "plt.rc('text', usetex=True)\n",
    "plt.rcParams['font.family'] = 'serif'\n",
    "plt.rc('font', size=17)"
   ]
  },
  {
   "cell_type": "code",
   "execution_count": 4,
   "metadata": {},
   "outputs": [
    {
     "data": {
      "text/html": [
       "<div>\n",
       "<style scoped>\n",
       "    .dataframe tbody tr th:only-of-type {\n",
       "        vertical-align: middle;\n",
       "    }\n",
       "\n",
       "    .dataframe tbody tr th {\n",
       "        vertical-align: top;\n",
       "    }\n",
       "\n",
       "    .dataframe thead th {\n",
       "        text-align: right;\n",
       "    }\n",
       "</style>\n",
       "<table border=\"1\" class=\"dataframe\">\n",
       "  <thead>\n",
       "    <tr style=\"text-align: right;\">\n",
       "      <th></th>\n",
       "      <th>MatchID</th>\n",
       "      <th>OpponentID</th>\n",
       "      <th>Outcome</th>\n",
       "      <th>OwnScore</th>\n",
       "      <th>OpponentScore</th>\n",
       "      <th>Side</th>\n",
       "      <th>CoachID</th>\n",
       "    </tr>\n",
       "  </thead>\n",
       "  <tbody>\n",
       "    <tr>\n",
       "      <th>0</th>\n",
       "      <td>1</td>\n",
       "      <td>Opponent1</td>\n",
       "      <td>win</td>\n",
       "      <td>1</td>\n",
       "      <td>0</td>\n",
       "      <td>home</td>\n",
       "      <td>Coach1</td>\n",
       "    </tr>\n",
       "    <tr>\n",
       "      <th>1</th>\n",
       "      <td>2</td>\n",
       "      <td>Opponent2</td>\n",
       "      <td>tie</td>\n",
       "      <td>1</td>\n",
       "      <td>1</td>\n",
       "      <td>away</td>\n",
       "      <td>Coach1</td>\n",
       "    </tr>\n",
       "    <tr>\n",
       "      <th>2</th>\n",
       "      <td>3</td>\n",
       "      <td>Opponent3</td>\n",
       "      <td>loss</td>\n",
       "      <td>0</td>\n",
       "      <td>2</td>\n",
       "      <td>away</td>\n",
       "      <td>Coach1</td>\n",
       "    </tr>\n",
       "  </tbody>\n",
       "</table>\n",
       "</div>"
      ],
      "text/plain": [
       "   MatchID OpponentID Outcome  OwnScore  OpponentScore  Side CoachID\n",
       "0        1  Opponent1     win         1              0  home  Coach1\n",
       "1        2  Opponent2     tie         1              1  away  Coach1\n",
       "2        3  Opponent3    loss         0              2  away  Coach1"
      ]
     },
     "execution_count": 4,
     "metadata": {},
     "output_type": "execute_result"
    }
   ],
   "source": [
    "df_matches = pd.read_csv('./2020_Problem_D_DATA/matches.csv')\n",
    "df_matches[:3]"
   ]
  },
  {
   "cell_type": "code",
   "execution_count": 6,
   "metadata": {},
   "outputs": [
    {
     "data": {
      "text/plain": [
       "{'Duel',\n",
       " 'Foul',\n",
       " 'Free Kick',\n",
       " 'Goalkeeper leaving line',\n",
       " 'Interruption',\n",
       " 'Offside',\n",
       " 'Others on the ball',\n",
       " 'Pass',\n",
       " 'Save attempt',\n",
       " 'Shot',\n",
       " 'Substitution'}"
      ]
     },
     "execution_count": 6,
     "metadata": {},
     "output_type": "execute_result"
    }
   ],
   "source": [
    "# types of events\n",
    "set(df_huskies['EventType'].values)"
   ]
  },
  {
   "cell_type": "markdown",
   "metadata": {},
   "source": [
    "# 8 classical football metrics"
   ]
  },
  {
   "cell_type": "markdown",
   "metadata": {},
   "source": [
    "## (A) number of passes"
   ]
  },
  {
   "cell_type": "code",
   "execution_count": 42,
   "metadata": {
    "scrolled": true
   },
   "outputs": [
    {
     "data": {
      "text/html": [
       "<div>\n",
       "<style scoped>\n",
       "    .dataframe tbody tr th:only-of-type {\n",
       "        vertical-align: middle;\n",
       "    }\n",
       "\n",
       "    .dataframe tbody tr th {\n",
       "        vertical-align: top;\n",
       "    }\n",
       "\n",
       "    .dataframe thead th {\n",
       "        text-align: right;\n",
       "    }\n",
       "</style>\n",
       "<table border=\"1\" class=\"dataframe\">\n",
       "  <thead>\n",
       "    <tr style=\"text-align: right;\">\n",
       "      <th></th>\n",
       "      <th>Huskies_pass</th>\n",
       "      <th>Opponent_pass</th>\n",
       "    </tr>\n",
       "    <tr>\n",
       "      <th>OpponentID</th>\n",
       "      <th></th>\n",
       "      <th></th>\n",
       "    </tr>\n",
       "  </thead>\n",
       "  <tbody>\n",
       "    <tr>\n",
       "      <th>Opponent1</th>\n",
       "      <td>698</td>\n",
       "      <td>412</td>\n",
       "    </tr>\n",
       "    <tr>\n",
       "      <th>Opponent10</th>\n",
       "      <td>608</td>\n",
       "      <td>487</td>\n",
       "    </tr>\n",
       "    <tr>\n",
       "      <th>Opponent11</th>\n",
       "      <td>421</td>\n",
       "      <td>577</td>\n",
       "    </tr>\n",
       "  </tbody>\n",
       "</table>\n",
       "</div>"
      ],
      "text/plain": [
       "            Huskies_pass  Opponent_pass\n",
       "OpponentID                             \n",
       "Opponent1            698            412\n",
       "Opponent10           608            487\n",
       "Opponent11           421            577"
      ]
     },
     "execution_count": 42,
     "metadata": {},
     "output_type": "execute_result"
    }
   ],
   "source": [
    "df_pass = pd.read_csv('./2020_Problem_D_DATA/passingevents.csv')\n",
    "pass_huskies = df_pass[df_pass['TeamID'] == 'Huskies']\n",
    "huskies_pass = pass_huskies.groupby('MatchID')['TeamID'].count().values\n",
    "\n",
    "pass_opponent = df_pass[df_pass['TeamID'] != 'Huskies']\n",
    "opponent_pass = pass_opponent.groupby('MatchID')['TeamID'].count().values\n",
    "\n",
    "df_matches['Huskies_pass'] = huskies_pass\n",
    "df_matches['Opponent_pass'] = opponent_pass\n",
    "\n",
    "df_match_pass = df_matches.groupby('OpponentID')[['Huskies_pass', 'Opponent_pass']].sum()\n",
    "df_match_pass.to_csv('Passes.csv')\n",
    "df_match_pass[:3]"
   ]
  },
  {
   "cell_type": "markdown",
   "metadata": {},
   "source": [
    "## (B) number of shots"
   ]
  },
  {
   "cell_type": "code",
   "execution_count": 43,
   "metadata": {},
   "outputs": [
    {
     "data": {
      "text/html": [
       "<div>\n",
       "<style scoped>\n",
       "    .dataframe tbody tr th:only-of-type {\n",
       "        vertical-align: middle;\n",
       "    }\n",
       "\n",
       "    .dataframe tbody tr th {\n",
       "        vertical-align: top;\n",
       "    }\n",
       "\n",
       "    .dataframe thead th {\n",
       "        text-align: right;\n",
       "    }\n",
       "</style>\n",
       "<table border=\"1\" class=\"dataframe\">\n",
       "  <thead>\n",
       "    <tr style=\"text-align: right;\">\n",
       "      <th></th>\n",
       "      <th>Huskies_shot</th>\n",
       "      <th>Opponent_shot</th>\n",
       "    </tr>\n",
       "    <tr>\n",
       "      <th>OpponentID</th>\n",
       "      <th></th>\n",
       "      <th></th>\n",
       "    </tr>\n",
       "  </thead>\n",
       "  <tbody>\n",
       "    <tr>\n",
       "      <th>Opponent1</th>\n",
       "      <td>23</td>\n",
       "      <td>20</td>\n",
       "    </tr>\n",
       "    <tr>\n",
       "      <th>Opponent10</th>\n",
       "      <td>24</td>\n",
       "      <td>13</td>\n",
       "    </tr>\n",
       "    <tr>\n",
       "      <th>Opponent11</th>\n",
       "      <td>12</td>\n",
       "      <td>22</td>\n",
       "    </tr>\n",
       "  </tbody>\n",
       "</table>\n",
       "</div>"
      ],
      "text/plain": [
       "            Huskies_shot  Opponent_shot\n",
       "OpponentID                             \n",
       "Opponent1             23             20\n",
       "Opponent10            24             13\n",
       "Opponent11            12             22"
      ]
     },
     "execution_count": 43,
     "metadata": {},
     "output_type": "execute_result"
    }
   ],
   "source": [
    "df = pd.read_csv('./2020_Problem_D_DATA/fullevents.csv')\n",
    "df_huskies = df[df['TeamID'] == 'Huskies']\n",
    "df_opponents = df[df['TeamID'] != 'Huskies']\n",
    "\n",
    "# Huskies队在所有场的比赛中射门次数\n",
    "huskies_shot = df_huskies[df_huskies['EventType'] == 'Shot'].groupby('MatchID')['TeamID'].count().values\n",
    "\n",
    "# Opponent某队在所有场的比赛中射门次数（每场的队不一样）\n",
    "opponent_shot = df_opponents[df_opponents['EventType'] == 'Shot'].groupby('MatchID')['TeamID'].count().values\n",
    "\n",
    "df_matches['Huskies_shot'] = huskies_shot\n",
    "df_matches['Opponent_shot'] = opponent_shot\n",
    "\n",
    "df_shots = df_matches.groupby('OpponentID')[['Huskies_shot', 'Opponent_shot']].sum()\n",
    "df_shots.to_csv('./Shots.csv')\n",
    "df_shots[:3]"
   ]
  },
  {
   "cell_type": "markdown",
   "metadata": {},
   "source": [
    "## (C) number of goals"
   ]
  },
  {
   "cell_type": "code",
   "execution_count": 45,
   "metadata": {},
   "outputs": [
    {
     "data": {
      "text/html": [
       "<div>\n",
       "<style scoped>\n",
       "    .dataframe tbody tr th:only-of-type {\n",
       "        vertical-align: middle;\n",
       "    }\n",
       "\n",
       "    .dataframe tbody tr th {\n",
       "        vertical-align: top;\n",
       "    }\n",
       "\n",
       "    .dataframe thead th {\n",
       "        text-align: right;\n",
       "    }\n",
       "</style>\n",
       "<table border=\"1\" class=\"dataframe\">\n",
       "  <thead>\n",
       "    <tr style=\"text-align: right;\">\n",
       "      <th></th>\n",
       "      <th>Huskies_score</th>\n",
       "      <th>Opponent_score</th>\n",
       "    </tr>\n",
       "    <tr>\n",
       "      <th>OpponentID</th>\n",
       "      <th></th>\n",
       "      <th></th>\n",
       "    </tr>\n",
       "  </thead>\n",
       "  <tbody>\n",
       "    <tr>\n",
       "      <th>Opponent1</th>\n",
       "      <td>3</td>\n",
       "      <td>1</td>\n",
       "    </tr>\n",
       "    <tr>\n",
       "      <th>Opponent10</th>\n",
       "      <td>2</td>\n",
       "      <td>3</td>\n",
       "    </tr>\n",
       "    <tr>\n",
       "      <th>Opponent11</th>\n",
       "      <td>3</td>\n",
       "      <td>3</td>\n",
       "    </tr>\n",
       "  </tbody>\n",
       "</table>\n",
       "</div>"
      ],
      "text/plain": [
       "            Huskies_score  Opponent_score\n",
       "OpponentID                               \n",
       "Opponent1               3               1\n",
       "Opponent10              2               3\n",
       "Opponent11              3               3"
      ]
     },
     "execution_count": 45,
     "metadata": {},
     "output_type": "execute_result"
    }
   ],
   "source": [
    "df_goals = df_matches.groupby('OpponentID')[['OwnScore','OpponentScore']].sum()\n",
    "df_goals = df_goals.rename(columns={\"OwnScore\": \"Huskies_score\", \"OpponentScore\": \"Opponent_score\"})\n",
    "df_goals.to_csv('./Goals.csv')\n",
    "df_goals[:3]"
   ]
  },
  {
   "cell_type": "markdown",
   "metadata": {
    "code_folding": []
   },
   "source": [
    "## (D) number of points"
   ]
  },
  {
   "cell_type": "markdown",
   "metadata": {
    "code_folding": []
   },
   "source": [
    "## (E) average of X"
   ]
  },
  {
   "cell_type": "code",
   "execution_count": 46,
   "metadata": {
    "code_folding": []
   },
   "outputs": [],
   "source": [
    "def cal_mean_position(direction):\n",
    "    huskies_coor = df_pass[df_pass['TeamID'] == 'Huskies']\n",
    "    opponent_coor = df_pass[df_pass['TeamID'] != 'Huskies']\n",
    "\n",
    "    huskies_coor_match = huskies_coor.groupby('MatchID')['EventOrigin_{}'.format(direction)].mean()\n",
    "    opponent_coor_match = opponent_coor.groupby('MatchID')['EventOrigin_{}'.format(direction)].mean()\n",
    "\n",
    "    df_matches['Huskies_{}'.format(direction)] = huskies_coor_match.values # 注意这里要用.values赋值，否则第零行是空的\n",
    "    df_matches['Opponent_{}'.format(direction)] = opponent_coor_match.values\n",
    "\n",
    "    huskies_coor_id = df_matches.groupby('OpponentID')['Huskies_{}'.format(direction)].mean()\n",
    "    opponent_coor_id = df_matches.groupby('OpponentID')['Opponent_{}'.format(direction)].mean()\n",
    "    \n",
    "    return huskies_coor_id, opponent_coor_id\n",
    "\n",
    "huskies_x_id, opponent_x_id = cal_mean_position(direction='x')"
   ]
  },
  {
   "cell_type": "code",
   "execution_count": 54,
   "metadata": {},
   "outputs": [
    {
     "data": {
      "text/html": [
       "<div>\n",
       "<style scoped>\n",
       "    .dataframe tbody tr th:only-of-type {\n",
       "        vertical-align: middle;\n",
       "    }\n",
       "\n",
       "    .dataframe tbody tr th {\n",
       "        vertical-align: top;\n",
       "    }\n",
       "\n",
       "    .dataframe thead th {\n",
       "        text-align: right;\n",
       "    }\n",
       "</style>\n",
       "<table border=\"1\" class=\"dataframe\">\n",
       "  <thead>\n",
       "    <tr style=\"text-align: right;\">\n",
       "      <th></th>\n",
       "      <th>Huskies_x</th>\n",
       "      <th>Opponent_x</th>\n",
       "    </tr>\n",
       "    <tr>\n",
       "      <th>OpponentID</th>\n",
       "      <th></th>\n",
       "      <th></th>\n",
       "    </tr>\n",
       "  </thead>\n",
       "  <tbody>\n",
       "    <tr>\n",
       "      <th>Opponent1</th>\n",
       "      <td>46.754903</td>\n",
       "      <td>49.039759</td>\n",
       "    </tr>\n",
       "    <tr>\n",
       "      <th>Opponent10</th>\n",
       "      <td>49.496303</td>\n",
       "      <td>43.027524</td>\n",
       "    </tr>\n",
       "    <tr>\n",
       "      <th>Opponent11</th>\n",
       "      <td>47.010321</td>\n",
       "      <td>49.439481</td>\n",
       "    </tr>\n",
       "  </tbody>\n",
       "</table>\n",
       "</div>"
      ],
      "text/plain": [
       "            Huskies_x  Opponent_x\n",
       "OpponentID                       \n",
       "Opponent1   46.754903   49.039759\n",
       "Opponent10  49.496303   43.027524\n",
       "Opponent11  47.010321   49.439481"
      ]
     },
     "execution_count": 54,
     "metadata": {},
     "output_type": "execute_result"
    }
   ],
   "source": [
    "df_coor_x = pd.DataFrame([huskies_x_id, opponent_x_id]).T\n",
    "df_coor_x.to_csv('Coorx.csv')\n",
    "df_coor_x[:3]"
   ]
  },
  {
   "cell_type": "markdown",
   "metadata": {},
   "source": [
    "## (F) average of Y"
   ]
  },
  {
   "cell_type": "code",
   "execution_count": 55,
   "metadata": {},
   "outputs": [
    {
     "data": {
      "text/html": [
       "<div>\n",
       "<style scoped>\n",
       "    .dataframe tbody tr th:only-of-type {\n",
       "        vertical-align: middle;\n",
       "    }\n",
       "\n",
       "    .dataframe tbody tr th {\n",
       "        vertical-align: top;\n",
       "    }\n",
       "\n",
       "    .dataframe thead th {\n",
       "        text-align: right;\n",
       "    }\n",
       "</style>\n",
       "<table border=\"1\" class=\"dataframe\">\n",
       "  <thead>\n",
       "    <tr style=\"text-align: right;\">\n",
       "      <th></th>\n",
       "      <th>Huskies_y</th>\n",
       "      <th>Opponent_y</th>\n",
       "    </tr>\n",
       "    <tr>\n",
       "      <th>OpponentID</th>\n",
       "      <th></th>\n",
       "      <th></th>\n",
       "    </tr>\n",
       "  </thead>\n",
       "  <tbody>\n",
       "    <tr>\n",
       "      <th>Opponent1</th>\n",
       "      <td>52.911080</td>\n",
       "      <td>47.271845</td>\n",
       "    </tr>\n",
       "    <tr>\n",
       "      <th>Opponent10</th>\n",
       "      <td>52.208544</td>\n",
       "      <td>47.740218</td>\n",
       "    </tr>\n",
       "    <tr>\n",
       "      <th>Opponent11</th>\n",
       "      <td>51.573483</td>\n",
       "      <td>52.197889</td>\n",
       "    </tr>\n",
       "  </tbody>\n",
       "</table>\n",
       "</div>"
      ],
      "text/plain": [
       "            Huskies_y  Opponent_y\n",
       "OpponentID                       \n",
       "Opponent1   52.911080   47.271845\n",
       "Opponent10  52.208544   47.740218\n",
       "Opponent11  51.573483   52.197889"
      ]
     },
     "execution_count": 55,
     "metadata": {},
     "output_type": "execute_result"
    }
   ],
   "source": [
    "huskies_y_id, opponent_y_id = cal_mean_position(direction='y')\n",
    "\n",
    "df_coor_y = pd.DataFrame([huskies_y_id, opponent_y_id]).T\n",
    "df_coor_y.to_csv('Coory.csv')\n",
    "df_coor_y[:3]"
   ]
  },
  {
   "cell_type": "markdown",
   "metadata": {},
   "source": [
    "## (G) dispersion"
   ]
  },
  {
   "cell_type": "code",
   "execution_count": 72,
   "metadata": {
    "scrolled": true
   },
   "outputs": [],
   "source": [
    "h_coor_match = pd.merge(pass_huskies, df_matches, how='left', on='MatchID')\n",
    "h_coor_match['Distance'] = np.sqrt(np.square(h_coor_match['EventOrigin_x'] - h_coor_match['Huskies_x']) + \\\n",
    "                                   np.square(h_coor_match['EventOrigin_y'] - h_coor_match['Huskies_y']))\n",
    "\n",
    "h_dispersion_match = h_coor_match.groupby('MatchID')['Distance'].std(ddof=1).values\n",
    "df_matches['Huskies_dispersion'] = h_dispersion_match\n",
    "h_dispersion_id = df_matches.groupby('OpponentID')['Huskies_dispersion'].mean()"
   ]
  },
  {
   "cell_type": "code",
   "execution_count": 73,
   "metadata": {},
   "outputs": [],
   "source": [
    "o_coor_match = pd.merge(pass_opponent, df_matches, how='left', on='MatchID')\n",
    "o_coor_match['Distance'] = np.sqrt(np.square(o_coor_match['EventOrigin_x'] - o_coor_match['Opponent_x']) + \\\n",
    "                                   np.square(o_coor_match['EventOrigin_y'] - o_coor_match['Opponent_y']))\n",
    "\n",
    "o_dispersion_match = o_coor_match.groupby('MatchID')['Distance'].std(ddof=1).values\n",
    "df_matches['Opponent_dispersion'] = o_dispersion_match\n",
    "o_dispersion_id = df_matches.groupby('OpponentID')['Opponent_dispersion'].mean()"
   ]
  },
  {
   "cell_type": "code",
   "execution_count": 74,
   "metadata": {},
   "outputs": [
    {
     "data": {
      "text/html": [
       "<div>\n",
       "<style scoped>\n",
       "    .dataframe tbody tr th:only-of-type {\n",
       "        vertical-align: middle;\n",
       "    }\n",
       "\n",
       "    .dataframe tbody tr th {\n",
       "        vertical-align: top;\n",
       "    }\n",
       "\n",
       "    .dataframe thead th {\n",
       "        text-align: right;\n",
       "    }\n",
       "</style>\n",
       "<table border=\"1\" class=\"dataframe\">\n",
       "  <thead>\n",
       "    <tr style=\"text-align: right;\">\n",
       "      <th></th>\n",
       "      <th>Huskies_dispersion</th>\n",
       "      <th>Opponent_dispersion</th>\n",
       "    </tr>\n",
       "    <tr>\n",
       "      <th>OpponentID</th>\n",
       "      <th></th>\n",
       "      <th></th>\n",
       "    </tr>\n",
       "  </thead>\n",
       "  <tbody>\n",
       "    <tr>\n",
       "      <th>Opponent1</th>\n",
       "      <td>13.992035</td>\n",
       "      <td>12.284797</td>\n",
       "    </tr>\n",
       "    <tr>\n",
       "      <th>Opponent10</th>\n",
       "      <td>11.894599</td>\n",
       "      <td>13.209759</td>\n",
       "    </tr>\n",
       "    <tr>\n",
       "      <th>Opponent11</th>\n",
       "      <td>14.168883</td>\n",
       "      <td>12.697066</td>\n",
       "    </tr>\n",
       "  </tbody>\n",
       "</table>\n",
       "</div>"
      ],
      "text/plain": [
       "            Huskies_dispersion  Opponent_dispersion\n",
       "OpponentID                                         \n",
       "Opponent1            13.992035            12.284797\n",
       "Opponent10           11.894599            13.209759\n",
       "Opponent11           14.168883            12.697066"
      ]
     },
     "execution_count": 74,
     "metadata": {},
     "output_type": "execute_result"
    }
   ],
   "source": [
    "df_dispersion = pd.DataFrame([h_dispersion_id, o_dispersion_id]).T\n",
    "df_dispersion.to_csv('Dispersion.csv')\n",
    "df_dispersion[:3]"
   ]
  },
  {
   "cell_type": "markdown",
   "metadata": {},
   "source": [
    "## (H) advance ratio"
   ]
  },
  {
   "cell_type": "code",
   "execution_count": 77,
   "metadata": {},
   "outputs": [],
   "source": [
    "h_coor_match['Delta_x'] = np.abs(h_coor_match['EventDestination_x'] - h_coor_match['EventOrigin_x'])\n",
    "h_coor_match['Delta_y'] = np.abs(h_coor_match['EventDestination_y'] - h_coor_match['EventOrigin_y'])\n",
    "h_dx_match = h_coor_match.groupby('MatchID')['Delta_x'].sum().values\n",
    "h_dy_match = h_coor_match.groupby('MatchID')['Delta_y'].sum().values\n",
    "df_matches['Huskies_ratio'] = h_dy_match / h_dx_match"
   ]
  },
  {
   "cell_type": "code",
   "execution_count": 78,
   "metadata": {},
   "outputs": [],
   "source": [
    "o_coor_match['Delta_x'] = np.abs(o_coor_match['EventDestination_x'] - o_coor_match['EventOrigin_x'])\n",
    "o_coor_match['Delta_y'] = np.abs(o_coor_match['EventDestination_y'] - o_coor_match['EventOrigin_y'])\n",
    "o_dx_match = o_coor_match.groupby('MatchID')['Delta_x'].sum().values\n",
    "o_dy_match = o_coor_match.groupby('MatchID')['Delta_y'].sum().values\n",
    "df_matches['Opponent_ratio'] = o_dy_match / o_dx_match"
   ]
  },
  {
   "cell_type": "code",
   "execution_count": 79,
   "metadata": {},
   "outputs": [],
   "source": [
    "h_ratio_id = df_matches.groupby('OpponentID')['Huskies_ratio'].mean()\n",
    "o_ratio_id = df_matches.groupby('OpponentID')['Opponent_ratio'].mean()"
   ]
  },
  {
   "cell_type": "code",
   "execution_count": 80,
   "metadata": {},
   "outputs": [
    {
     "data": {
      "text/html": [
       "<div>\n",
       "<style scoped>\n",
       "    .dataframe tbody tr th:only-of-type {\n",
       "        vertical-align: middle;\n",
       "    }\n",
       "\n",
       "    .dataframe tbody tr th {\n",
       "        vertical-align: top;\n",
       "    }\n",
       "\n",
       "    .dataframe thead th {\n",
       "        text-align: right;\n",
       "    }\n",
       "</style>\n",
       "<table border=\"1\" class=\"dataframe\">\n",
       "  <thead>\n",
       "    <tr style=\"text-align: right;\">\n",
       "      <th></th>\n",
       "      <th>Huskies_ratio</th>\n",
       "      <th>Opponent_ratio</th>\n",
       "    </tr>\n",
       "    <tr>\n",
       "      <th>OpponentID</th>\n",
       "      <th></th>\n",
       "      <th></th>\n",
       "    </tr>\n",
       "  </thead>\n",
       "  <tbody>\n",
       "    <tr>\n",
       "      <th>Opponent1</th>\n",
       "      <td>2.044927</td>\n",
       "      <td>1.450086</td>\n",
       "    </tr>\n",
       "    <tr>\n",
       "      <th>Opponent10</th>\n",
       "      <td>1.452312</td>\n",
       "      <td>1.471001</td>\n",
       "    </tr>\n",
       "    <tr>\n",
       "      <th>Opponent11</th>\n",
       "      <td>1.450814</td>\n",
       "      <td>1.600366</td>\n",
       "    </tr>\n",
       "    <tr>\n",
       "      <th>Opponent12</th>\n",
       "      <td>1.644212</td>\n",
       "      <td>1.464643</td>\n",
       "    </tr>\n",
       "    <tr>\n",
       "      <th>Opponent13</th>\n",
       "      <td>1.608704</td>\n",
       "      <td>1.807067</td>\n",
       "    </tr>\n",
       "    <tr>\n",
       "      <th>Opponent14</th>\n",
       "      <td>1.533365</td>\n",
       "      <td>1.706565</td>\n",
       "    </tr>\n",
       "    <tr>\n",
       "      <th>Opponent15</th>\n",
       "      <td>1.274068</td>\n",
       "      <td>1.707571</td>\n",
       "    </tr>\n",
       "    <tr>\n",
       "      <th>Opponent16</th>\n",
       "      <td>1.401205</td>\n",
       "      <td>1.811766</td>\n",
       "    </tr>\n",
       "    <tr>\n",
       "      <th>Opponent17</th>\n",
       "      <td>1.632852</td>\n",
       "      <td>1.452246</td>\n",
       "    </tr>\n",
       "    <tr>\n",
       "      <th>Opponent18</th>\n",
       "      <td>1.498312</td>\n",
       "      <td>1.603737</td>\n",
       "    </tr>\n",
       "    <tr>\n",
       "      <th>Opponent19</th>\n",
       "      <td>1.617906</td>\n",
       "      <td>1.373964</td>\n",
       "    </tr>\n",
       "    <tr>\n",
       "      <th>Opponent2</th>\n",
       "      <td>1.287216</td>\n",
       "      <td>1.723791</td>\n",
       "    </tr>\n",
       "    <tr>\n",
       "      <th>Opponent3</th>\n",
       "      <td>1.350880</td>\n",
       "      <td>1.804167</td>\n",
       "    </tr>\n",
       "    <tr>\n",
       "      <th>Opponent4</th>\n",
       "      <td>1.562954</td>\n",
       "      <td>1.665132</td>\n",
       "    </tr>\n",
       "    <tr>\n",
       "      <th>Opponent5</th>\n",
       "      <td>1.607073</td>\n",
       "      <td>1.650131</td>\n",
       "    </tr>\n",
       "    <tr>\n",
       "      <th>Opponent6</th>\n",
       "      <td>1.526148</td>\n",
       "      <td>1.543798</td>\n",
       "    </tr>\n",
       "    <tr>\n",
       "      <th>Opponent7</th>\n",
       "      <td>1.577487</td>\n",
       "      <td>1.218392</td>\n",
       "    </tr>\n",
       "    <tr>\n",
       "      <th>Opponent8</th>\n",
       "      <td>1.642979</td>\n",
       "      <td>1.528663</td>\n",
       "    </tr>\n",
       "    <tr>\n",
       "      <th>Opponent9</th>\n",
       "      <td>1.485118</td>\n",
       "      <td>1.694721</td>\n",
       "    </tr>\n",
       "  </tbody>\n",
       "</table>\n",
       "</div>"
      ],
      "text/plain": [
       "            Huskies_ratio  Opponent_ratio\n",
       "OpponentID                               \n",
       "Opponent1        2.044927        1.450086\n",
       "Opponent10       1.452312        1.471001\n",
       "Opponent11       1.450814        1.600366\n",
       "Opponent12       1.644212        1.464643\n",
       "Opponent13       1.608704        1.807067\n",
       "Opponent14       1.533365        1.706565\n",
       "Opponent15       1.274068        1.707571\n",
       "Opponent16       1.401205        1.811766\n",
       "Opponent17       1.632852        1.452246\n",
       "Opponent18       1.498312        1.603737\n",
       "Opponent19       1.617906        1.373964\n",
       "Opponent2        1.287216        1.723791\n",
       "Opponent3        1.350880        1.804167\n",
       "Opponent4        1.562954        1.665132\n",
       "Opponent5        1.607073        1.650131\n",
       "Opponent6        1.526148        1.543798\n",
       "Opponent7        1.577487        1.218392\n",
       "Opponent8        1.642979        1.528663\n",
       "Opponent9        1.485118        1.694721"
      ]
     },
     "execution_count": 80,
     "metadata": {},
     "output_type": "execute_result"
    }
   ],
   "source": [
    "Ratio = pd.merge(h_ratio_id, o_ratio_id, how='left', on='OpponentID')\n",
    "Ratio.to_csv('AdvanceRatio.csv')\n",
    "Ratio"
   ]
  },
  {
   "cell_type": "markdown",
   "metadata": {},
   "source": [
    "# Plot"
   ]
  },
  {
   "cell_type": "code",
   "execution_count": 87,
   "metadata": {},
   "outputs": [],
   "source": [
    "def calc_mean_std(x):\n",
    "    return (np.mean(x), np.std(x, ddof=1) / np.sqrt(len(x)))"
   ]
  },
  {
   "cell_type": "code",
   "execution_count": 140,
   "metadata": {},
   "outputs": [
    {
     "data": {
      "image/png": "[encoded data removed]",
      "text/plain": [
       "<Figure size 1080x288 with 3 Axes>"
      ]
     },
     "metadata": {
      "needs_background": "light"
     },
     "output_type": "display_data"
    }
   ],
   "source": [
    "### overall\n",
    "from scipy import stats\n",
    "fig, axes = plt.subplots(1, 3, figsize=(15, 4))\n",
    "\n",
    "file_set = ['Passes', 'Shots', 'Goals']\n",
    "column_names = ['_pass', '_shot', '_score']\n",
    "ylabel_set = ['Passes', 'Shots', 'Goals']\n",
    "color_dict = {True: 'orange', False: 'dodgerblue'}\n",
    "\n",
    "tag_set = ['A', 'B', 'C', 'D', 'E']\n",
    "\n",
    "for ind in range(3):\n",
    "    ax = axes[ind % 3]\n",
    "    \n",
    "    df = pd.read_csv(file_set[ind] + '.csv')\n",
    "    column = column_names[ind]\n",
    "    \n",
    "    huskie = calc_mean_std(df['Huskies' + column]) \n",
    "    oppo = calc_mean_std(df['Opponent' + column])\n",
    "    \n",
    "    levene = stats.levene(df['Huskies' + column].values, df['Opponent' + column].values)\n",
    "    ttest = stats.ttest_ind(df['Huskies' + column].values, \n",
    "                            df['Opponent' + column].values, \n",
    "                            equal_var=(levene.pvalue > 0.05))\n",
    "    pvalue = ttest.pvalue\n",
    "    \n",
    "    x_label = ['Huskies', 'Opponents']\n",
    "    x_pos = [1.5, 3.0]\n",
    "    \n",
    "    ax.bar(x_pos, [huskie[0], oppo[0]], \n",
    "           yerr=[huskie[1], oppo[1]], \n",
    "           error_kw={'capsize': 3}, \n",
    "           width=1, color=color_dict[pvalue < 0.05], \n",
    "           edgecolor='gray',\n",
    "           alpha=0.6)\n",
    "    ylim = ax.get_ylim()\n",
    "    if ind == 1:\n",
    "        ax.text(0.5, ylim[1] - (ylim[1] - ylim[0]) * 0.11, r'$p={:.4f}$'.format(pvalue))\n",
    "    else:\n",
    "        ax.text(0.5, ylim[1] - (ylim[1] - ylim[0]) * 0.11, r'$p={:.3f}$'.format(pvalue))\n",
    "    ax.set_xlim(0, 4.5)\n",
    "    ax.set_ylim(ylim[0], ylim[0] + 1.1 * (ylim[1] - ylim[0]))\n",
    "    ax.set_xticks(x_pos)\n",
    "    ax.set_xticklabels(x_label)\n",
    "    ax.set_ylabel(ylabel_set[ind])\n",
    "    ax.tick_params(direction='in')\n",
    "    \n",
    "    ax.text(3.9, ylim[1] - (ylim[1] - ylim[0]) * 0.11, \n",
    "            r'$\\textbf{' + tag_set[ind] + '}$', \n",
    "            fontsize=17,\n",
    "            fontweight='bold',\n",
    "            horizontalalignment='center', \n",
    "            verticalalignment='center')\n",
    "    ax.set_ylim(ylim)\n",
    "\n",
    "    \n",
    "plt.subplots_adjust(wspace=0.25)\n",
    "\n",
    "plt.savefig('./pass_shot_goal.png', dpi=200, bbox_inches='tight')\n",
    "plt.savefig('./pass_shot_goal.pdf', dpi=200, bbox_inches='tight')"
   ]
  },
  {
   "cell_type": "code",
   "execution_count": 147,
   "metadata": {},
   "outputs": [
    {
     "data": {
      "image/png": "[encoded data removed]",
      "text/plain": [
       "<Figure size 1440x288 with 4 Axes>"
      ]
     },
     "metadata": {
      "needs_background": "light"
     },
     "output_type": "display_data"
    }
   ],
   "source": [
    "### Structual\n",
    "from scipy import stats\n",
    "fig, axes = plt.subplots(1, 4, figsize=(20, 4))\n",
    "\n",
    "file_set = ['Coorx', 'Coory', 'Dispersion', 'AdvanceRatio']\n",
    "column_names = ['_x', '_y', '_dispersion', '_ratio']\n",
    "ylabel_set = [r'$\\langle X \\rangle$', r'$\\langle Y \\rangle$', 'Dispersion', \n",
    "              r'$\\langle \\Delta Y \\rangle / \\langle \\Delta X \\rangle$']\n",
    "color_dict = {True: 'orange', False: 'dodgerblue'}\n",
    "\n",
    "tag_set = ['A', 'B', 'C', 'D', 'E']\n",
    "\n",
    "for ind in range(4):\n",
    "    ax = axes[ind % 4]\n",
    "    \n",
    "    df = pd.read_csv(file_set[ind] + '.csv')\n",
    "    column = column_names[ind]\n",
    "    \n",
    "    huskie = calc_mean_std(df['Huskies' + column]) \n",
    "    oppo = calc_mean_std(df['Opponent' + column])\n",
    "    \n",
    "    levene = stats.levene(df['Huskies' + column].values, df['Opponent' + column].values)\n",
    "    ttest = stats.ttest_ind(df['Huskies' + column].values, \n",
    "                            df['Opponent' + column].values, \n",
    "                            equal_var=(levene.pvalue > 0.05))\n",
    "    pvalue = ttest.pvalue\n",
    "    \n",
    "    x_label = ['Huskies', 'Opponents']\n",
    "    x_pos = [1.5, 3.0]\n",
    "    \n",
    "    ax.bar(x_pos, [huskie[0], oppo[0]], \n",
    "           yerr=[huskie[1], oppo[1]], \n",
    "           error_kw={'capsize': 3}, \n",
    "           width=1, color=color_dict[pvalue < 0.05], \n",
    "           edgecolor='gray',\n",
    "           alpha=0.6)\n",
    "    ylim = ax.get_ylim()\n",
    "    ax.text(0.5, ylim[1] - (ylim[1] - ylim[0]) * 0.02, r'$p={:.3f}$'.format(pvalue))\n",
    "    ax.set_xlim(0, 4.5)\n",
    "    ax.set_ylim(ylim[0], ylim[0] + 1.1 * (ylim[1] - ylim[0]))\n",
    "    ax.set_xticks(x_pos)\n",
    "    ax.set_xticklabels(x_label)\n",
    "    ax.set_ylabel(ylabel_set[ind])\n",
    "    ax.tick_params(direction='in')\n",
    "    \n",
    "    ax.text(3.9, ylim[1] - (ylim[1] - ylim[0]) * 0.02, \n",
    "            r'$\\textbf{' + tag_set[ind] + '}$', \n",
    "            fontsize=17,\n",
    "            fontweight='bold',\n",
    "            horizontalalignment='center', \n",
    "            verticalalignment='center')\n",
    "    \n",
    "plt.subplots_adjust(wspace=0.25)\n",
    "\n",
    "plt.savefig('./Draft/spatial_structure.png', dpi=200, bbox_inches='tight')\n",
    "plt.savefig('./Draft/spatial_structure.pdf', dpi=200, bbox_inches='tight')"
   ]
  },
  {
   "cell_type": "code",
   "execution_count": 221,
   "metadata": {},
   "outputs": [],
   "source": []
  },
  {
   "cell_type": "code",
   "execution_count": null,
   "metadata": {},
   "outputs": [],
   "source": []
  }
 ],
 "metadata": {
  "kernelspec": {
   "display_name": "Python 3",
   "language": "python",
   "name": "python3"
  },
  "language_info": {
   "codemirror_mode": {
    "name": "ipython",
    "version": 3
   },
   "file_extension": ".py",
   "mimetype": "text/x-python",
   "name": "python",
   "nbconvert_exporter": "python",
   "pygments_lexer": "ipython3",
   "version": "3.7.0"
  },
  "notify_time": "5"
 },
 "nbformat": 4,
 "nbformat_minor": 2
}
