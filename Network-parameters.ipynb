{
 "cells": [
  {
   "cell_type": "code",
   "execution_count": 168,
   "metadata": {},
   "outputs": [
    {
     "name": "stdout",
     "output_type": "stream",
     "text": [
      "The autoreload extension is already loaded. To reload it, use:\n",
      "  %reload_ext autoreload\n"
     ]
    }
   ],
   "source": [
    "%matplotlib inline\n",
    "%load_ext autoreload\n",
    "%autoreload 2\n",
    "\n",
    "import warnings\n",
    "warnings.filterwarnings('ignore')\n",
    "import numpy as np\n",
    "import pandas as pd\n",
    "import matplotlib.pyplot as plt\n",
    "import networkx as nx\n",
    "import utils # local file\n",
    "\n",
    "plt.rc('text', usetex=True)\n",
    "plt.rcParams['font.family'] = 'serif'\n",
    "plt.rc('font', size=16)"
   ]
  },
  {
   "cell_type": "code",
   "execution_count": 379,
   "metadata": {},
   "outputs": [],
   "source": [
    "def calc_mean_std(x):\n",
    "    return (np.mean(x), np.std(x, ddof=1) / np.sqrt(len(x)))"
   ]
  },
  {
   "cell_type": "code",
   "execution_count": 380,
   "metadata": {},
   "outputs": [],
   "source": [
    "df_matches = pd.read_csv('./matches_with_network_params.csv', index_col=0)"
   ]
  },
  {
   "cell_type": "code",
   "execution_count": 381,
   "metadata": {},
   "outputs": [
    {
     "data": {
      "text/html": [
       "<div>\n",
       "<style scoped>\n",
       "    .dataframe tbody tr th:only-of-type {\n",
       "        vertical-align: middle;\n",
       "    }\n",
       "\n",
       "    .dataframe tbody tr th {\n",
       "        vertical-align: top;\n",
       "    }\n",
       "\n",
       "    .dataframe thead th {\n",
       "        text-align: right;\n",
       "    }\n",
       "</style>\n",
       "<table border=\"1\" class=\"dataframe\">\n",
       "  <thead>\n",
       "    <tr style=\"text-align: right;\">\n",
       "      <th></th>\n",
       "      <th>MatchID</th>\n",
       "      <th>OpponentID</th>\n",
       "      <th>Outcome</th>\n",
       "      <th>OwnScore</th>\n",
       "      <th>OpponentScore</th>\n",
       "      <th>Side</th>\n",
       "      <th>CoachID</th>\n",
       "      <th>Huskies_network_params</th>\n",
       "      <th>Opponent_network_params</th>\n",
       "    </tr>\n",
       "  </thead>\n",
       "  <tbody>\n",
       "    <tr>\n",
       "      <th>0</th>\n",
       "      <td>1</td>\n",
       "      <td>Opponent1</td>\n",
       "      <td>win</td>\n",
       "      <td>1</td>\n",
       "      <td>0</td>\n",
       "      <td>home</td>\n",
       "      <td>Coach1</td>\n",
       "      <td>{'clustering_coeff': 0.09591148659543136, 'sho...</td>\n",
       "      <td>{'clustering_coeff': 0.12727017100674862, 'sho...</td>\n",
       "    </tr>\n",
       "    <tr>\n",
       "      <th>1</th>\n",
       "      <td>2</td>\n",
       "      <td>Opponent2</td>\n",
       "      <td>tie</td>\n",
       "      <td>1</td>\n",
       "      <td>1</td>\n",
       "      <td>away</td>\n",
       "      <td>Coach1</td>\n",
       "      <td>{'clustering_coeff': 0.13558418994397967, 'sho...</td>\n",
       "      <td>{'clustering_coeff': 0.15137551104001684, 'sho...</td>\n",
       "    </tr>\n",
       "    <tr>\n",
       "      <th>2</th>\n",
       "      <td>3</td>\n",
       "      <td>Opponent3</td>\n",
       "      <td>loss</td>\n",
       "      <td>0</td>\n",
       "      <td>2</td>\n",
       "      <td>away</td>\n",
       "      <td>Coach1</td>\n",
       "      <td>{'clustering_coeff': 0.12456657946374812, 'sho...</td>\n",
       "      <td>{'clustering_coeff': 0.1305149813894459, 'shor...</td>\n",
       "    </tr>\n",
       "  </tbody>\n",
       "</table>\n",
       "</div>"
      ],
      "text/plain": [
       "   MatchID OpponentID Outcome  OwnScore  OpponentScore  Side CoachID  \\\n",
       "0        1  Opponent1     win         1              0  home  Coach1   \n",
       "1        2  Opponent2     tie         1              1  away  Coach1   \n",
       "2        3  Opponent3    loss         0              2  away  Coach1   \n",
       "\n",
       "                              Huskies_network_params  \\\n",
       "0  {'clustering_coeff': 0.09591148659543136, 'sho...   \n",
       "1  {'clustering_coeff': 0.13558418994397967, 'sho...   \n",
       "2  {'clustering_coeff': 0.12456657946374812, 'sho...   \n",
       "\n",
       "                             Opponent_network_params  \n",
       "0  {'clustering_coeff': 0.12727017100674862, 'sho...  \n",
       "1  {'clustering_coeff': 0.15137551104001684, 'sho...  \n",
       "2  {'clustering_coeff': 0.1305149813894459, 'shor...  "
      ]
     },
     "execution_count": 381,
     "metadata": {},
     "output_type": "execute_result"
    }
   ],
   "source": [
    "df_matches[:3]"
   ]
  },
  {
   "cell_type": "markdown",
   "metadata": {},
   "source": [
    "## 赛区比赛结果"
   ]
  },
  {
   "cell_type": "code",
   "execution_count": 382,
   "metadata": {},
   "outputs": [],
   "source": [
    "def color_func(p):\n",
    "    if p > 0.2:\n",
    "        return 'dodgerblue'\n",
    "    elif p < 0.05:\n",
    "        return 'orange'\n",
    "    else:\n",
    "        return 'seagreen'"
   ]
  },
  {
   "cell_type": "code",
   "execution_count": 383,
   "metadata": {},
   "outputs": [],
   "source": [
    "ranking = {\n",
    "    'Opponent14': 13,\n",
    "    'Opponent13': 17,\n",
    "    'Opponent15': 16,\n",
    "    'Opponent17': 12,\n",
    "    'Opponent18': 18,\n",
    "    'Opponent16': 4,\n",
    "    'Opponent2': 1,\n",
    "    'Opponent1': 19,\n",
    "    'Opponent8': 14,\n",
    "    'Opponent7': 7,\n",
    "    'Opponent11': 15,\n",
    "    'Opponent12': 11,\n",
    "    'Opponent9': 6,\n",
    "    'Opponent10': 9,\n",
    "    'Opponent19': 20,\n",
    "    'Opponent4': 3,\n",
    "    'Opponent5': 2,\n",
    "    'Opponent6': 10,\n",
    "    'Opponent3': 5\n",
    "}"
   ]
  },
  {
   "cell_type": "code",
   "execution_count": 388,
   "metadata": {},
   "outputs": [],
   "source": [
    "ranking = pd.Series(ranking)\n",
    "ranking = ranking.sort_values()"
   ]
  },
  {
   "cell_type": "code",
   "execution_count": 389,
   "metadata": {},
   "outputs": [],
   "source": [
    "ind = np.in1d(df_matches['OpponentID'], ranking[ranking <= 5].index.values)\n",
    "df_win = df_matches.iloc[ind]\n",
    "\n",
    "column = df_win['Huskies_network_params']\n",
    "huskies_params = pd.DataFrame.from_dict({\n",
    "    np.array(column.index)[ind]: eval(item)\n",
    "    for ind, item in enumerate(column.values)\n",
    "    }, orient='index')\n",
    "\n",
    "column = df_win['Opponent_network_params']\n",
    "oppo_params = pd.DataFrame.from_dict({\n",
    "    np.array(column.index)[ind]: eval(item)\n",
    "    for ind, item in enumerate(column.values)\n",
    "    }, orient='index')"
   ]
  },
  {
   "cell_type": "code",
   "execution_count": 391,
   "metadata": {},
   "outputs": [
    {
     "data": {
      "image/png": "[encoded data removed]",
      "text/plain": [
       "<Figure size 1224x720 with 6 Axes>"
      ]
     },
     "metadata": {
      "needs_background": "light"
     },
     "output_type": "display_data"
    }
   ],
   "source": [
    "fig, axes = plt.subplots(2, 3, figsize=(17, 10))\n",
    "\n",
    "ylabel_set = ['Clustering', 'Shortest Path', \n",
    "              r'$\\lambda_1$', r'$\\widetilde{\\lambda_2}$', \n",
    "              'Cent. Max', 'Cent. Std']\n",
    "tag_set = ['A', 'B', 'C', 'D', 'E', 'F']\n",
    "\n",
    "for ind, column in enumerate(huskies_params.columns):\n",
    "    ax = axes[ind // 3, ind % 3]\n",
    "    \n",
    "    huskie = calc_mean_std(huskies_params[column]) \n",
    "    oppo = calc_mean_std(oppo_params[column])\n",
    "    \n",
    "    levene = stats.levene(huskies_params[column].values, oppo_params[column].values)\n",
    "    ttest = stats.ttest_ind(huskies_params[column].values, \n",
    "                            oppo_params[column].values, \n",
    "                            equal_var=(levene.pvalue > 0.10))\n",
    "    pvalue = ttest.pvalue\n",
    "\n",
    "    x_label = ['Huskies', 'Opponents']\n",
    "    x_pos = [1.5, 3.0]\n",
    "    \n",
    "    ax.bar(x_pos, [huskie[0], oppo[0]], \n",
    "           yerr=[huskie[1], oppo[1]], \n",
    "           error_kw={'capsize': 3}, \n",
    "           width=1, color=color_func(pvalue), \n",
    "           edgecolor='gray',\n",
    "           alpha=0.6)\n",
    "    ylim = ax.get_ylim()\n",
    "    ax.text(0.5, ylim[1] - (ylim[1] - ylim[0]) * 0.02, r'$p={:.2f}$'.format(pvalue))\n",
    "    ax.set_xlim(0, 4.5)\n",
    "    ax.set_ylim(ylim[0], ylim[0] + 1.1 * (ylim[1] - ylim[0]))\n",
    "    ax.set_xticks(x_pos)\n",
    "    ax.set_xticklabels(x_label)\n",
    "    ax.set_ylabel(ylabel_set[ind])\n",
    "    ax.tick_params(direction='in')\n",
    "    \n",
    "    ax.text(3.9, ylim[1] - (ylim[1] - ylim[0]) * 0.02, \n",
    "            r'$\\textbf{' + tag_set[ind] + '}$', \n",
    "            fontsize=17,\n",
    "            fontweight='bold',\n",
    "            horizontalalignment='center', \n",
    "            verticalalignment='center')\n",
    "    \n",
    "plt.subplots_adjust(wspace=0.3)\n",
    "\n",
    "plt.savefig('./Draft/top6-network-params.pdf', dpi=200, bbox_inches='tight')\n",
    "plt.savefig('./Draft/top6-network-params.png', dpi=200, bbox_inches='tight')"
   ]
  },
  {
   "cell_type": "code",
   "execution_count": 392,
   "metadata": {},
   "outputs": [],
   "source": [
    "ind = np.in1d(df_matches['OpponentID'], ranking[ranking >= 15].index.values)\n",
    "df_win = df_matches.iloc[ind]\n",
    "\n",
    "column = df_win['Huskies_network_params']\n",
    "huskies_params = pd.DataFrame.from_dict({\n",
    "    np.array(column.index)[ind]: eval(item)\n",
    "    for ind, item in enumerate(column.values)\n",
    "    }, orient='index')\n",
    "\n",
    "column = df_win['Opponent_network_params']\n",
    "oppo_params = pd.DataFrame.from_dict({\n",
    "    np.array(column.index)[ind]: eval(item)\n",
    "    for ind, item in enumerate(column.values)\n",
    "    }, orient='index')"
   ]
  },
  {
   "cell_type": "code",
   "execution_count": 393,
   "metadata": {},
   "outputs": [
    {
     "data": {
      "image/png": "[encoded data removed]",
      "text/plain": [
       "<Figure size 1224x720 with 6 Axes>"
      ]
     },
     "metadata": {
      "needs_background": "light"
     },
     "output_type": "display_data"
    }
   ],
   "source": [
    "fig, axes = plt.subplots(2, 3, figsize=(17, 10))\n",
    "\n",
    "ylabel_set = ['Clustering', 'Shortest Path', \n",
    "              r'$\\lambda_1$', r'$\\widetilde{\\lambda_2}$', \n",
    "              'Cent. Max', 'Cent. Std']\n",
    "\n",
    "tag_set = ['A', 'B', 'C', 'D', 'E', 'F']\n",
    "\n",
    "for ind, column in enumerate(huskies_params.columns):\n",
    "    ax = axes[ind // 3, ind % 3]\n",
    "    \n",
    "    huskie = calc_mean_std(huskies_params[column]) \n",
    "    oppo = calc_mean_std(oppo_params[column])\n",
    "    \n",
    "    levene = stats.levene(huskies_params[column].values, oppo_params[column].values)\n",
    "    ttest = stats.ttest_ind(huskies_params[column].values, \n",
    "                            oppo_params[column].values, \n",
    "                            equal_var=(levene.pvalue > 0.10))\n",
    "    pvalue = ttest.pvalue\n",
    "\n",
    "    x_label = ['Huskies', 'Opponents']\n",
    "    x_pos = [1.5, 3.0]\n",
    "    \n",
    "    ax.bar(x_pos, [huskie[0], oppo[0]], \n",
    "           yerr=[huskie[1], oppo[1]], \n",
    "           error_kw={'capsize': 3}, \n",
    "           width=1, color=color_func(pvalue), \n",
    "           edgecolor='gray',\n",
    "           alpha=0.6)\n",
    "    ylim = ax.get_ylim()\n",
    "    ax.text(0.5, ylim[1] - (ylim[1] - ylim[0]) * 0.02, r'$p={:.2f}$'.format(pvalue))\n",
    "    ax.set_xlim(0, 4.5)\n",
    "    ax.set_ylim(ylim[0], ylim[0] + 1.1 * (ylim[1] - ylim[0]))\n",
    "    ax.set_xticks(x_pos)\n",
    "    ax.set_xticklabels(x_label)\n",
    "    ax.set_ylabel(ylabel_set[ind])\n",
    "    ax.tick_params(direction='in')\n",
    "    \n",
    "    ax.text(3.9, ylim[1] - (ylim[1] - ylim[0]) * 0.02, \n",
    "            r'$\\textbf{' + tag_set[ind] + '}$', \n",
    "            fontsize=17,\n",
    "            fontweight='bold',\n",
    "            horizontalalignment='center', \n",
    "            verticalalignment='center')\n",
    "    \n",
    "plt.subplots_adjust(wspace=0.3)\n",
    "\n",
    "plt.savefig('./Draft/bottom6-network-params.pdf', dpi=200, bbox_inches='tight')\n",
    "plt.savefig('./Draft/bottom6-network-params.png', dpi=200, bbox_inches='tight')"
   ]
  },
  {
   "cell_type": "code",
   "execution_count": null,
   "metadata": {},
   "outputs": [],
   "source": []
  }
 ],
 "metadata": {
  "kernelspec": {
   "display_name": "Python 3",
   "language": "python",
   "name": "python3"
  },
  "language_info": {
   "codemirror_mode": {
    "name": "ipython",
    "version": 3
   },
   "file_extension": ".py",
   "mimetype": "text/x-python",
   "name": "python",
   "nbconvert_exporter": "python",
   "pygments_lexer": "ipython3",
   "version": "3.7.0"
  },
  "notify_time": "5"
 },
 "nbformat": 4,
 "nbformat_minor": 2
}
