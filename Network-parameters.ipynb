{
 "cells": [
  {
   "cell_type": "code",
   "execution_count": 140,
   "metadata": {},
   "outputs": [
    {
     "name": "stdout",
     "output_type": "stream",
     "text": [
      "The autoreload extension is already loaded. To reload it, use:\n",
      "  %reload_ext autoreload\n"
     ]
    }
   ],
   "source": [
    "%matplotlib inline\n",
    "%load_ext autoreload\n",
    "%autoreload 2\n",
    "\n",
    "import warnings\n",
    "warnings.filterwarnings('ignore')\n",
    "import numpy as np\n",
    "import pandas as pd\n",
    "import matplotlib.pyplot as plt\n",
    "import networkx as nx\n",
    "import utils # local file\n",
    "\n",
    "plt.rcParams['font.size'] = 15.0"
   ]
  },
  {
   "cell_type": "code",
   "execution_count": 141,
   "metadata": {},
   "outputs": [],
   "source": [
    "df_matches = pd.read_csv('./matches_with_network_params.csv', index_col=0)"
   ]
  },
  {
   "cell_type": "code",
   "execution_count": 142,
   "metadata": {},
   "outputs": [
    {
     "data": {
      "text/html": [
       "<div>\n",
       "<style scoped>\n",
       "    .dataframe tbody tr th:only-of-type {\n",
       "        vertical-align: middle;\n",
       "    }\n",
       "\n",
       "    .dataframe tbody tr th {\n",
       "        vertical-align: top;\n",
       "    }\n",
       "\n",
       "    .dataframe thead th {\n",
       "        text-align: right;\n",
       "    }\n",
       "</style>\n",
       "<table border=\"1\" class=\"dataframe\">\n",
       "  <thead>\n",
       "    <tr style=\"text-align: right;\">\n",
       "      <th></th>\n",
       "      <th>MatchID</th>\n",
       "      <th>OpponentID</th>\n",
       "      <th>Outcome</th>\n",
       "      <th>OwnScore</th>\n",
       "      <th>OpponentScore</th>\n",
       "      <th>Side</th>\n",
       "      <th>CoachID</th>\n",
       "      <th>Huskies_network_params</th>\n",
       "      <th>Opponent_network_params</th>\n",
       "    </tr>\n",
       "  </thead>\n",
       "  <tbody>\n",
       "    <tr>\n",
       "      <th>0</th>\n",
       "      <td>1</td>\n",
       "      <td>Opponent1</td>\n",
       "      <td>win</td>\n",
       "      <td>1</td>\n",
       "      <td>0</td>\n",
       "      <td>home</td>\n",
       "      <td>Coach1</td>\n",
       "      <td>{'clustering_coeff': 0.11072771290100378, 'sho...</td>\n",
       "      <td>{'clustering_coeff': 0.1934175485201471, 'shor...</td>\n",
       "    </tr>\n",
       "    <tr>\n",
       "      <th>1</th>\n",
       "      <td>2</td>\n",
       "      <td>Opponent2</td>\n",
       "      <td>tie</td>\n",
       "      <td>1</td>\n",
       "      <td>1</td>\n",
       "      <td>away</td>\n",
       "      <td>Coach1</td>\n",
       "      <td>{'clustering_coeff': 0.13766034155337248, 'sho...</td>\n",
       "      <td>{'clustering_coeff': 0.1961347345629039, 'shor...</td>\n",
       "    </tr>\n",
       "    <tr>\n",
       "      <th>2</th>\n",
       "      <td>3</td>\n",
       "      <td>Opponent3</td>\n",
       "      <td>loss</td>\n",
       "      <td>0</td>\n",
       "      <td>2</td>\n",
       "      <td>away</td>\n",
       "      <td>Coach1</td>\n",
       "      <td>{'clustering_coeff': 0.13896354205232736, 'sho...</td>\n",
       "      <td>{'clustering_coeff': 0.16620423330094877, 'sho...</td>\n",
       "    </tr>\n",
       "  </tbody>\n",
       "</table>\n",
       "</div>"
      ],
      "text/plain": [
       "   MatchID OpponentID Outcome  OwnScore  OpponentScore  Side CoachID  \\\n",
       "0        1  Opponent1     win         1              0  home  Coach1   \n",
       "1        2  Opponent2     tie         1              1  away  Coach1   \n",
       "2        3  Opponent3    loss         0              2  away  Coach1   \n",
       "\n",
       "                              Huskies_network_params  \\\n",
       "0  {'clustering_coeff': 0.11072771290100378, 'sho...   \n",
       "1  {'clustering_coeff': 0.13766034155337248, 'sho...   \n",
       "2  {'clustering_coeff': 0.13896354205232736, 'sho...   \n",
       "\n",
       "                             Opponent_network_params  \n",
       "0  {'clustering_coeff': 0.1934175485201471, 'shor...  \n",
       "1  {'clustering_coeff': 0.1961347345629039, 'shor...  \n",
       "2  {'clustering_coeff': 0.16620423330094877, 'sho...  "
      ]
     },
     "execution_count": 142,
     "metadata": {},
     "output_type": "execute_result"
    }
   ],
   "source": [
    "df_matches[:3]"
   ]
  },
  {
   "cell_type": "markdown",
   "metadata": {},
   "source": [
    "## Clustering coeff for winned matches"
   ]
  },
  {
   "cell_type": "code",
   "execution_count": 143,
   "metadata": {},
   "outputs": [],
   "source": [
    "df_win = df_matches[df_matches['Outcome'] == 'win']"
   ]
  },
  {
   "cell_type": "code",
   "execution_count": 144,
   "metadata": {},
   "outputs": [],
   "source": [
    "column = df_win['Huskies_network_params']\n",
    "huskies_params = pd.DataFrame.from_dict({\n",
    "    np.array(column.index)[ind]: eval(item)\n",
    "    for ind, item in enumerate(column.values)\n",
    "    }, orient='index')\n",
    "\n",
    "column = df_win['Opponent_network_params']\n",
    "oppo_params = pd.DataFrame.from_dict({\n",
    "    np.array(column.index)[ind]: eval(item)\n",
    "    for ind, item in enumerate(column.values)\n",
    "    }, orient='index')"
   ]
  },
  {
   "cell_type": "code",
   "execution_count": 145,
   "metadata": {},
   "outputs": [],
   "source": [
    "def calc_mean_std(x):\n",
    "    return (np.mean(x), np.std(x, ddof=1) / np.sqrt(len(x)))"
   ]
  },
  {
   "cell_type": "code",
   "execution_count": 146,
   "metadata": {
    "scrolled": false
   },
   "outputs": [
    {
     "data": {
      "image/png": "[encoded data removed]",
      "text/plain": [
       "<Figure size 1224x720 with 6 Axes>"
      ]
     },
     "metadata": {
      "needs_background": "light"
     },
     "output_type": "display_data"
    }
   ],
   "source": [
    "fig, axes = plt.subplots(2, 3, figsize=(17, 10))\n",
    "\n",
    "ylabel_set = ['Clustering', 'Shortest Path', \n",
    "              r'$\\lambda_1$', r'$\\hat{\\lambda_2}$', \n",
    "              'Cent. Max', 'Cent. Std']\n",
    "\n",
    "color_dict = {True: 'gold', False: 'steelblue'}\n",
    "\n",
    "for ind, column in enumerate(huskies_params.columns):\n",
    "    ax = axes[ind // 3, ind % 3]\n",
    "    \n",
    "    huskie = calc_mean_std(huskies_params[column]) \n",
    "    oppo = calc_mean_std(oppo_params[column])\n",
    "    \n",
    "    levene = stats.levene(huskies_params[column].values, oppo_params[column].values)\n",
    "    ttest = stats.ttest_ind(huskies_params[column].values, \n",
    "                            oppo_params[column].values, \n",
    "                            equal_var=(levene.pvalue > 0.05))\n",
    "    pvalue = ttest.pvalue\n",
    "\n",
    "    x_label = ['Huskies', 'Opponents']\n",
    "    x_pos = [1.5, 2.7]\n",
    "    \n",
    "    ax.bar(x_pos, [huskie[0], oppo[0]], \n",
    "           yerr=[huskie[1], oppo[1]], \n",
    "           error_kw={'capsize': 3}, \n",
    "           width=1, color=color_dict[pvalue < 0.05], \n",
    "           alpha=0.7)\n",
    "    ylim = ax.get_ylim()\n",
    "    ax.text(0.5, ylim[1] - (ylim[1] - ylim[0]) * 0.03, r'$p={:.2f}$'.format(pvalue))\n",
    "    ax.set_xlim(0, 4.2)\n",
    "    ax.set_ylim(ylim[0], ylim[0] + 1.1 * (ylim[1] - ylim[0]))\n",
    "    ax.set_xticks(x_pos)\n",
    "    ax.set_xticklabels(x_label)\n",
    "    ax.set_ylabel(ylabel_set[ind])\n",
    "    ax.tick_params(direction='in')\n",
    "    \n",
    "plt.subplots_adjust(wspace=0.25)"
   ]
  },
  {
   "cell_type": "code",
   "execution_count": null,
   "metadata": {},
   "outputs": [],
   "source": []
  }
 ],
 "metadata": {
  "kernelspec": {
   "display_name": "Python 3",
   "language": "python",
   "name": "python3"
  },
  "language_info": {
   "codemirror_mode": {
    "name": "ipython",
    "version": 3
   },
   "file_extension": ".py",
   "mimetype": "text/x-python",
   "name": "python",
   "nbconvert_exporter": "python",
   "pygments_lexer": "ipython3",
   "version": "3.7.0"
  }
 },
 "nbformat": 4,
 "nbformat_minor": 2
}
